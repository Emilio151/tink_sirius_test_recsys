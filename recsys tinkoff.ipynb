{
 "cells": [
  {
   "cell_type": "code",
   "execution_count": 1,
   "id": "85403b90",
   "metadata": {},
   "outputs": [],
   "source": [
    "from abc import ABC, abstractmethod\n",
    "from typing import Dict, List\n",
    "import warnings\n",
    "\n",
    "# Работа с таблицам\n",
    "import numpy as np\n",
    "import pandas as pd\n",
    "import seaborn as sns\n",
    "\n",
    "# Пакеты для сollaborative filtering (я работал с пакетом implicit)\n",
    "from implicit.als import AlternatingLeastSquares\n",
    "from implicit.nearest_neighbours import CosineRecommender, BM25Recommender, TFIDFRecommender\n",
    "from implicit.bpr import BayesianPersonalizedRanking\n",
    "from implicit.lmf import LogisticMatrixFactorization\n",
    "\n",
    "# Вспомогательные пакеты\n",
    "from scipy.sparse import csr_matrix, coo_matrix\n",
    "from sklearn.preprocessing import LabelEncoder\n",
    "\n",
    "# Методы для content-based filtering\n",
    "from sklearn.metrics.pairwise import linear_kernel\n",
    "from sklearn.feature_extraction.text import TfidfVectorizer\n",
    "\n",
    "# Визуализация/из\n",
    "from tqdm.auto import tqdm\n",
    "import seaborn as sns\n",
    "import matplotlib.pyplot as plt"
   ]
  },
  {
   "cell_type": "markdown",
   "id": "46157413",
   "metadata": {},
   "source": [
    "## Данные\n",
    "\n",
    "В качестве данных будем использовать датасет от MTS.AI: kion-data.\n",
    "Это информация о просмотрах пользователей различных фильмов и сериалов с названиями, описаниями и прочими фичами.\n",
    "\n",
    "Таблица Users\n",
    "* Признаки\n",
    "\n",
    "    * user_id – индентификатор пользователя, уникален для каждого\n",
    "    * age – категориальный признак, показывающий возрастную группу пользователя\n",
    "    * income – категориальный признак, показывающий зарплатную группу пользователя\n",
    "    * sex – пол пользователя\n",
    "    * kids_flg – наличие детей у пользователя\n",
    "\n",
    "Таблица Items\n",
    "* Признаки\n",
    "    * item_id – индентификатор айтема, уникален для каждого\n",
    "    * content_type – категориальный признак, тип айтема (фильм, сериал и т.д.)\n",
    "    * title – Название на русском языке\n",
    "    * title_orig – Название на языке оригинала\n",
    "    * release_year – год выхода\n",
    "    * genres – список жанров (представлен строкой)\n",
    "    * countries – страна издания\n",
    "    * for_kids – предназначен для детей\n",
    "    * age_rating – возрастной рейтинг картины\n",
    "    * studios – студия, выпустившая картину\n",
    "    * directors – режиссер(ы)\n",
    "    * actors – актёры\n",
    "    * description – описание (на русском)\n",
    "    * keywords – ключевые слова, описывающие картину\n"
   ]
  },
  {
   "cell_type": "code",
   "execution_count": 2,
   "id": "58eb24e7",
   "metadata": {},
   "outputs": [],
   "source": [
    "def ndcg_metric(gt_items: np.ndarray, predicted: np.ndarray) -> float:\n",
    "    at = len(predicted)\n",
    "    relevance = np.array([1 if x in predicted else 0 for x in gt_items])\n",
    "    # DCG uses the relevance of the recommended items\n",
    "    rank_dcg = dcg(relevance)\n",
    "    if rank_dcg == 0.0:\n",
    "        return 0.0\n",
    "\n",
    "    # IDCG has all relevances to 1 (or the values provided), up to the number of items in the test set that can fit in the list length\n",
    "    ideal_dcg = dcg(np.sort(relevance)[::-1][:at])\n",
    "\n",
    "    if ideal_dcg == 0.0:\n",
    "        return 0.0\n",
    "\n",
    "    ndcg_ = rank_dcg / ideal_dcg\n",
    "\n",
    "    return ndcg_\n",
    "\n",
    "\n",
    "def dcg(scores: np.ndarray) -> float:\n",
    "    return np.sum(\n",
    "        np.divide(np.power(2, scores) - 1, np.log2(np.arange(scores.shape[0], dtype=np.float64) + 2)), dtype=np.float64\n",
    "    )\n",
    "\n",
    "\n",
    "def recall_metric(gt_items: np.ndarray, predicted: np.ndarray) -> float:\n",
    "    n_gt = len(gt_items)\n",
    "    intersection = len(set(gt_items).intersection(set(predicted)))\n",
    "    return intersection / n_gt\n",
    "\n",
    "\n",
    "def evaluate_recommender(df: pd.DataFrame, model_preds_col: str, gt_col: str = \"ground_truth\") -> Dict[str, float]:\n",
    "    metric_values = []\n",
    "\n",
    "    for _, row in df.iterrows():\n",
    "        metric_values.append(\n",
    "            (ndcg_metric(row[gt_col], row[model_preds_col]), recall_metric(row[gt_col], row[model_preds_col]))\n",
    "        )\n",
    "\n",
    "    return {\"ndcg\": np.mean([x[0] for x in metric_values]), \"recall\": np.mean([x[1] for x in metric_values])}"
   ]
  },
  {
   "cell_type": "markdown",
   "id": "416e89f0",
   "metadata": {},
   "source": [
    "## Feature engineering"
   ]
  },
  {
   "cell_type": "code",
   "execution_count": 3,
   "id": "f033c688",
   "metadata": {},
   "outputs": [],
   "source": [
    "def percent_missing(my_df):\n",
    "    result = 100*my_df.isnull().sum()/len(my_df)\n",
    "    result = result[result>0].sort_values()\n",
    "    return result"
   ]
  },
  {
   "cell_type": "markdown",
   "id": "7bfefcbc",
   "metadata": {},
   "source": [
    "## Анализ items"
   ]
  },
  {
   "cell_type": "code",
   "execution_count": 4,
   "id": "7d9915cc",
   "metadata": {},
   "outputs": [],
   "source": [
    "items_dataset = pd.read_csv('items.csv')"
   ]
  },
  {
   "cell_type": "code",
   "execution_count": 5,
   "id": "44725d9f",
   "metadata": {},
   "outputs": [
    {
     "data": {
      "text/html": [
       "<div>\n",
       "<style scoped>\n",
       "    .dataframe tbody tr th:only-of-type {\n",
       "        vertical-align: middle;\n",
       "    }\n",
       "\n",
       "    .dataframe tbody tr th {\n",
       "        vertical-align: top;\n",
       "    }\n",
       "\n",
       "    .dataframe thead th {\n",
       "        text-align: right;\n",
       "    }\n",
       "</style>\n",
       "<table border=\"1\" class=\"dataframe\">\n",
       "  <thead>\n",
       "    <tr style=\"text-align: right;\">\n",
       "      <th></th>\n",
       "      <th>item_id</th>\n",
       "      <th>content_type</th>\n",
       "      <th>title</th>\n",
       "      <th>title_orig</th>\n",
       "      <th>release_year</th>\n",
       "      <th>genres</th>\n",
       "      <th>countries</th>\n",
       "      <th>for_kids</th>\n",
       "      <th>age_rating</th>\n",
       "      <th>studios</th>\n",
       "      <th>directors</th>\n",
       "      <th>actors</th>\n",
       "      <th>description</th>\n",
       "      <th>keywords</th>\n",
       "    </tr>\n",
       "  </thead>\n",
       "  <tbody>\n",
       "    <tr>\n",
       "      <th>0</th>\n",
       "      <td>10711</td>\n",
       "      <td>film</td>\n",
       "      <td>Поговори с ней</td>\n",
       "      <td>Hable con ella</td>\n",
       "      <td>2002.0</td>\n",
       "      <td>драмы, зарубежные, детективы, мелодрамы</td>\n",
       "      <td>Испания</td>\n",
       "      <td>NaN</td>\n",
       "      <td>16.0</td>\n",
       "      <td>NaN</td>\n",
       "      <td>Педро Альмодовар</td>\n",
       "      <td>Адольфо Фернандес, Ана Фернандес, Дарио Гранди...</td>\n",
       "      <td>Мелодрама легендарного Педро Альмодовара «Пого...</td>\n",
       "      <td>Поговори, ней, 2002, Испания, друзья, любовь, ...</td>\n",
       "    </tr>\n",
       "    <tr>\n",
       "      <th>1</th>\n",
       "      <td>2508</td>\n",
       "      <td>film</td>\n",
       "      <td>Голые перцы</td>\n",
       "      <td>Search Party</td>\n",
       "      <td>2014.0</td>\n",
       "      <td>зарубежные, приключения, комедии</td>\n",
       "      <td>США</td>\n",
       "      <td>NaN</td>\n",
       "      <td>16.0</td>\n",
       "      <td>NaN</td>\n",
       "      <td>Скот Армстронг</td>\n",
       "      <td>Адам Палли, Брайан Хаски, Дж.Б. Смув, Джейсон ...</td>\n",
       "      <td>Уморительная современная комедия на популярную...</td>\n",
       "      <td>Голые, перцы, 2014, США, друзья, свадьбы, прео...</td>\n",
       "    </tr>\n",
       "    <tr>\n",
       "      <th>2</th>\n",
       "      <td>10716</td>\n",
       "      <td>film</td>\n",
       "      <td>Тактическая сила</td>\n",
       "      <td>Tactical Force</td>\n",
       "      <td>2011.0</td>\n",
       "      <td>криминал, зарубежные, триллеры, боевики, комедии</td>\n",
       "      <td>Канада</td>\n",
       "      <td>NaN</td>\n",
       "      <td>16.0</td>\n",
       "      <td>NaN</td>\n",
       "      <td>Адам П. Калтраро</td>\n",
       "      <td>Адриан Холмс, Даррен Шалави, Джерри Вассерман,...</td>\n",
       "      <td>Профессиональный рестлер Стив Остин («Все или ...</td>\n",
       "      <td>Тактическая, сила, 2011, Канада, бандиты, ганг...</td>\n",
       "    </tr>\n",
       "    <tr>\n",
       "      <th>3</th>\n",
       "      <td>7868</td>\n",
       "      <td>film</td>\n",
       "      <td>45 лет</td>\n",
       "      <td>45 Years</td>\n",
       "      <td>2015.0</td>\n",
       "      <td>драмы, зарубежные, мелодрамы</td>\n",
       "      <td>Великобритания</td>\n",
       "      <td>NaN</td>\n",
       "      <td>16.0</td>\n",
       "      <td>NaN</td>\n",
       "      <td>Эндрю Хэй</td>\n",
       "      <td>Александра Риддлстон-Барретт, Джеральдин Джейм...</td>\n",
       "      <td>Шарлотта Рэмплинг, Том Кортни, Джеральдин Джей...</td>\n",
       "      <td>45, лет, 2015, Великобритания, брак, жизнь, лю...</td>\n",
       "    </tr>\n",
       "    <tr>\n",
       "      <th>4</th>\n",
       "      <td>11114</td>\n",
       "      <td>film</td>\n",
       "      <td>Принцесса Лебедь: Пират или принцесса</td>\n",
       "      <td>The Swan Princess: Princess Tomorrow, Pirate T...</td>\n",
       "      <td>2016.0</td>\n",
       "      <td>для детей, сказки, полнометражные, зарубежные,...</td>\n",
       "      <td>США</td>\n",
       "      <td>NaN</td>\n",
       "      <td>6.0</td>\n",
       "      <td>Sony Pictures</td>\n",
       "      <td>Ричард Рич</td>\n",
       "      <td>Брайан Ниссен, Гарднер Джаэс, Грант Дураззо, Д...</td>\n",
       "      <td>Анимационная сказка о непоседливой принцессе Э...</td>\n",
       "      <td>Принцесса, Лебедь, Пират, или, принцесса, 2016...</td>\n",
       "    </tr>\n",
       "  </tbody>\n",
       "</table>\n",
       "</div>"
      ],
      "text/plain": [
       "   item_id content_type                                  title  \\\n",
       "0    10711         film                         Поговори с ней   \n",
       "1     2508         film                            Голые перцы   \n",
       "2    10716         film                       Тактическая сила   \n",
       "3     7868         film                                 45 лет   \n",
       "4    11114         film  Принцесса Лебедь: Пират или принцесса   \n",
       "\n",
       "                                          title_orig  release_year  \\\n",
       "0                                     Hable con ella        2002.0   \n",
       "1                                       Search Party        2014.0   \n",
       "2                                     Tactical Force        2011.0   \n",
       "3                                           45 Years        2015.0   \n",
       "4  The Swan Princess: Princess Tomorrow, Pirate T...        2016.0   \n",
       "\n",
       "                                              genres       countries  \\\n",
       "0            драмы, зарубежные, детективы, мелодрамы         Испания   \n",
       "1                   зарубежные, приключения, комедии             США   \n",
       "2   криминал, зарубежные, триллеры, боевики, комедии          Канада   \n",
       "3                       драмы, зарубежные, мелодрамы  Великобритания   \n",
       "4  для детей, сказки, полнометражные, зарубежные,...             США   \n",
       "\n",
       "   for_kids  age_rating        studios         directors  \\\n",
       "0       NaN        16.0            NaN  Педро Альмодовар   \n",
       "1       NaN        16.0            NaN    Скот Армстронг   \n",
       "2       NaN        16.0            NaN  Адам П. Калтраро   \n",
       "3       NaN        16.0            NaN         Эндрю Хэй   \n",
       "4       NaN         6.0  Sony Pictures        Ричард Рич   \n",
       "\n",
       "                                              actors  \\\n",
       "0  Адольфо Фернандес, Ана Фернандес, Дарио Гранди...   \n",
       "1  Адам Палли, Брайан Хаски, Дж.Б. Смув, Джейсон ...   \n",
       "2  Адриан Холмс, Даррен Шалави, Джерри Вассерман,...   \n",
       "3  Александра Риддлстон-Барретт, Джеральдин Джейм...   \n",
       "4  Брайан Ниссен, Гарднер Джаэс, Грант Дураззо, Д...   \n",
       "\n",
       "                                         description  \\\n",
       "0  Мелодрама легендарного Педро Альмодовара «Пого...   \n",
       "1  Уморительная современная комедия на популярную...   \n",
       "2  Профессиональный рестлер Стив Остин («Все или ...   \n",
       "3  Шарлотта Рэмплинг, Том Кортни, Джеральдин Джей...   \n",
       "4  Анимационная сказка о непоседливой принцессе Э...   \n",
       "\n",
       "                                            keywords  \n",
       "0  Поговори, ней, 2002, Испания, друзья, любовь, ...  \n",
       "1  Голые, перцы, 2014, США, друзья, свадьбы, прео...  \n",
       "2  Тактическая, сила, 2011, Канада, бандиты, ганг...  \n",
       "3  45, лет, 2015, Великобритания, брак, жизнь, лю...  \n",
       "4  Принцесса, Лебедь, Пират, или, принцесса, 2016...  "
      ]
     },
     "execution_count": 5,
     "metadata": {},
     "output_type": "execute_result"
    }
   ],
   "source": [
    "items_dataset.head()"
   ]
  },
  {
   "cell_type": "code",
   "execution_count": 6,
   "id": "907409af",
   "metadata": {},
   "outputs": [
    {
     "name": "stdout",
     "output_type": "stream",
     "text": [
      "['film' 'series']\n",
      "[2002. 2014. 2011. 2015. 2016. 2018. 2013. 1987. 2019. 2020. 2007. 1975.\n",
      " 2010. 2012. 1999. 1976. 1991. 2004. 2003. 2001. 2017. 2009. 2008. 1993.\n",
      " 2000. 1954. 2021. 1997. 2006. 2005. 1981. 1990. 1994. 1989. 1939. 1935.\n",
      " 1995. 1984. 1980. 1974. 1986. 1963. 1962. 1978. 1982. 1958. 1988. 1961.\n",
      " 1971. 1969. 1979. 1970. 1955. 1998. 1992. 1942. 1985. 1983. 1965. 1959.\n",
      " 1964.   nan 1941. 1952. 1953. 1938. 1967. 1920. 1943. 1948. 1972. 1973.\n",
      " 1947. 1966. 1977. 1931. 1968. 1956. 1957. 1996. 1946. 1921. 1960. 1937.\n",
      " 1926. 1933. 1945. 1934. 1951. 1936. 1944. 1929. 1918. 1932. 1927. 1917.\n",
      " 1940. 1949. 1924. 1916. 1950. 1922. 1930.]\n",
      "[nan  0.  1.]\n",
      "[16.  6. 12. 18.  0. 21. nan]\n",
      "[nan 'Sony Pictures' 'Ленфильм' 'Starz' 'BBC' 'HBO' 'Paramount'\n",
      " 'Universal' 'Sky' 'Cinemax' 'CBS' 'Ленфильм, рентв' 'Sony Plus, рентв'\n",
      " 'FX' 'Sky, Fremantle' 'DAZN' 'Warner Bros' 'Fremantle'\n",
      " 'Sony Pictures, рентв' 'Fox' 'HBO, BBC' 'Мосфильм' 'Showtime' 'Endemol'\n",
      " 'Sony Pictures Television' 'CBS All Access' 'ABC' 'Universal, рентв'\n",
      " 'Amediateka' 'Рок фильм' 'Disney' 'HBO Max' 'Warner Bros. Television'\n",
      " 'Legendary' 'рентв' 'Channel 4' 'New Regency Productions' 'Sony Plus']\n",
      "['Педро Альмодовар' 'Скот Армстронг' 'Адам П. Калтраро' ...\n",
      " 'Эшреф Рейбрук, Амир Камдин, Эрик Эгер' 'Марк О’Коннор, Конор МакМахон'\n",
      " 'Михаил Миронов']\n"
     ]
    }
   ],
   "source": [
    "for col in items_dataset.columns:\n",
    "    if col not in ['title_orig', 'title', 'item_id', 'genres', 'actors', 'description', 'keywords', 'countries']:\n",
    "        print(pd.unique(items_dataset[col]))"
   ]
  },
  {
   "cell_type": "code",
   "execution_count": 7,
   "id": "06a8c758",
   "metadata": {},
   "outputs": [
    {
     "data": {
      "text/plain": [
       "Index(['item_id', 'content_type', 'title', 'title_orig', 'release_year',\n",
       "       'genres', 'countries', 'for_kids', 'age_rating', 'studios', 'directors',\n",
       "       'actors', 'description', 'keywords'],\n",
       "      dtype='object')"
      ]
     },
     "execution_count": 7,
     "metadata": {},
     "output_type": "execute_result"
    }
   ],
   "source": [
    "items_dataset.columns"
   ]
  },
  {
   "cell_type": "code",
   "execution_count": 8,
   "id": "4fb1d04c",
   "metadata": {},
   "outputs": [
    {
     "name": "stdout",
     "output_type": "stream",
     "text": [
      "<class 'pandas.core.frame.DataFrame'>\n",
      "RangeIndex: 12067 entries, 0 to 12066\n",
      "Data columns (total 14 columns):\n",
      " #   Column        Non-Null Count  Dtype  \n",
      "---  ------        --------------  -----  \n",
      " 0   item_id       12067 non-null  int64  \n",
      " 1   content_type  12067 non-null  object \n",
      " 2   title         12067 non-null  object \n",
      " 3   title_orig    9144 non-null   object \n",
      " 4   release_year  12019 non-null  float64\n",
      " 5   genres        12067 non-null  object \n",
      " 6   countries     12051 non-null  object \n",
      " 7   for_kids      528 non-null    float64\n",
      " 8   age_rating    12066 non-null  float64\n",
      " 9   studios       749 non-null    object \n",
      " 10  directors     11160 non-null  object \n",
      " 11  actors        10268 non-null  object \n",
      " 12  description   12066 non-null  object \n",
      " 13  keywords      11705 non-null  object \n",
      "dtypes: float64(3), int64(1), object(10)\n",
      "memory usage: 1.3+ MB\n"
     ]
    }
   ],
   "source": [
    "items_dataset.info()"
   ]
  },
  {
   "cell_type": "code",
   "execution_count": 9,
   "id": "1e9597be",
   "metadata": {},
   "outputs": [
    {
     "data": {
      "text/plain": [
       "item_id             0\n",
       "content_type        0\n",
       "title               0\n",
       "title_orig       2923\n",
       "release_year       48\n",
       "genres              0\n",
       "countries          16\n",
       "for_kids        11539\n",
       "age_rating          1\n",
       "studios         11318\n",
       "directors         907\n",
       "actors           1799\n",
       "description         1\n",
       "keywords          362\n",
       "dtype: int64"
      ]
     },
     "execution_count": 9,
     "metadata": {},
     "output_type": "execute_result"
    }
   ],
   "source": [
    "items_dataset.isnull().sum()"
   ]
  },
  {
   "cell_type": "code",
   "execution_count": 10,
   "id": "6424a44f",
   "metadata": {},
   "outputs": [
    {
     "name": "stdout",
     "output_type": "stream",
     "text": [
      "There are 0 duplicate rows.\n"
     ]
    }
   ],
   "source": [
    "total_duplicate_titles = sum(items_dataset.duplicated())\n",
    "print(f\"There are {total_duplicate_titles} duplicate rows.\")"
   ]
  },
  {
   "cell_type": "code",
   "execution_count": 11,
   "id": "56c4cb64",
   "metadata": {},
   "outputs": [],
   "source": [
    "items_dataset['genres'] = items_dataset['genres'].str.split(' ,').explode()"
   ]
  },
  {
   "cell_type": "code",
   "execution_count": 12,
   "id": "08e213c4",
   "metadata": {},
   "outputs": [],
   "source": [
    "# items_dataset.head()"
   ]
  },
  {
   "cell_type": "code",
   "execution_count": 13,
   "id": "e5409592",
   "metadata": {},
   "outputs": [],
   "source": [
    "items_dataset['actors'] = items_dataset['actors'].str.split(' ,')"
   ]
  },
  {
   "cell_type": "code",
   "execution_count": 14,
   "id": "c547c00d",
   "metadata": {},
   "outputs": [],
   "source": [
    "items_dataset['keywords'] = items_dataset['keywords'].str.split(' ,')"
   ]
  },
  {
   "cell_type": "code",
   "execution_count": 15,
   "id": "2a31b285",
   "metadata": {},
   "outputs": [],
   "source": [
    "items_dataset['directors'] = items_dataset['directors'].str.split(' ,').explode()"
   ]
  },
  {
   "cell_type": "code",
   "execution_count": 16,
   "id": "18bb4ad5",
   "metadata": {},
   "outputs": [],
   "source": [
    "items_dataset['description'] = items_dataset['description'].str.split(' ')"
   ]
  },
  {
   "cell_type": "code",
   "execution_count": 17,
   "id": "a2ac1a9c",
   "metadata": {},
   "outputs": [],
   "source": [
    "items_dataset['countries'] = items_dataset['countries'].str.split(' ,').explode()"
   ]
  },
  {
   "cell_type": "code",
   "execution_count": 18,
   "id": "671dee97",
   "metadata": {},
   "outputs": [
    {
     "data": {
      "text/html": [
       "<div>\n",
       "<style scoped>\n",
       "    .dataframe tbody tr th:only-of-type {\n",
       "        vertical-align: middle;\n",
       "    }\n",
       "\n",
       "    .dataframe tbody tr th {\n",
       "        vertical-align: top;\n",
       "    }\n",
       "\n",
       "    .dataframe thead th {\n",
       "        text-align: right;\n",
       "    }\n",
       "</style>\n",
       "<table border=\"1\" class=\"dataframe\">\n",
       "  <thead>\n",
       "    <tr style=\"text-align: right;\">\n",
       "      <th></th>\n",
       "      <th>item_id</th>\n",
       "      <th>release_year</th>\n",
       "      <th>for_kids</th>\n",
       "      <th>age_rating</th>\n",
       "    </tr>\n",
       "  </thead>\n",
       "  <tbody>\n",
       "    <tr>\n",
       "      <th>count</th>\n",
       "      <td>12067.000000</td>\n",
       "      <td>12019.000000</td>\n",
       "      <td>528.000000</td>\n",
       "      <td>12066.000000</td>\n",
       "    </tr>\n",
       "    <tr>\n",
       "      <th>mean</th>\n",
       "      <td>8275.688324</td>\n",
       "      <td>2009.369415</td>\n",
       "      <td>0.200758</td>\n",
       "      <td>13.278800</td>\n",
       "    </tr>\n",
       "    <tr>\n",
       "      <th>std</th>\n",
       "      <td>4784.091799</td>\n",
       "      <td>15.125133</td>\n",
       "      <td>0.400947</td>\n",
       "      <td>5.403964</td>\n",
       "    </tr>\n",
       "    <tr>\n",
       "      <th>min</th>\n",
       "      <td>0.000000</td>\n",
       "      <td>1916.000000</td>\n",
       "      <td>0.000000</td>\n",
       "      <td>0.000000</td>\n",
       "    </tr>\n",
       "    <tr>\n",
       "      <th>25%</th>\n",
       "      <td>4128.500000</td>\n",
       "      <td>2008.000000</td>\n",
       "      <td>0.000000</td>\n",
       "      <td>12.000000</td>\n",
       "    </tr>\n",
       "    <tr>\n",
       "      <th>50%</th>\n",
       "      <td>8260.000000</td>\n",
       "      <td>2015.000000</td>\n",
       "      <td>0.000000</td>\n",
       "      <td>16.000000</td>\n",
       "    </tr>\n",
       "    <tr>\n",
       "      <th>75%</th>\n",
       "      <td>12447.000000</td>\n",
       "      <td>2018.000000</td>\n",
       "      <td>0.000000</td>\n",
       "      <td>16.000000</td>\n",
       "    </tr>\n",
       "    <tr>\n",
       "      <th>max</th>\n",
       "      <td>16518.000000</td>\n",
       "      <td>2021.000000</td>\n",
       "      <td>1.000000</td>\n",
       "      <td>21.000000</td>\n",
       "    </tr>\n",
       "  </tbody>\n",
       "</table>\n",
       "</div>"
      ],
      "text/plain": [
       "            item_id  release_year    for_kids    age_rating\n",
       "count  12067.000000  12019.000000  528.000000  12066.000000\n",
       "mean    8275.688324   2009.369415    0.200758     13.278800\n",
       "std     4784.091799     15.125133    0.400947      5.403964\n",
       "min        0.000000   1916.000000    0.000000      0.000000\n",
       "25%     4128.500000   2008.000000    0.000000     12.000000\n",
       "50%     8260.000000   2015.000000    0.000000     16.000000\n",
       "75%    12447.000000   2018.000000    0.000000     16.000000\n",
       "max    16518.000000   2021.000000    1.000000     21.000000"
      ]
     },
     "execution_count": 18,
     "metadata": {},
     "output_type": "execute_result"
    }
   ],
   "source": [
    "items_dataset.describe()"
   ]
  },
  {
   "cell_type": "code",
   "execution_count": 19,
   "id": "f892ac9a",
   "metadata": {},
   "outputs": [
    {
     "data": {
      "text/html": [
       "<div>\n",
       "<style scoped>\n",
       "    .dataframe tbody tr th:only-of-type {\n",
       "        vertical-align: middle;\n",
       "    }\n",
       "\n",
       "    .dataframe tbody tr th {\n",
       "        vertical-align: top;\n",
       "    }\n",
       "\n",
       "    .dataframe thead th {\n",
       "        text-align: right;\n",
       "    }\n",
       "</style>\n",
       "<table border=\"1\" class=\"dataframe\">\n",
       "  <thead>\n",
       "    <tr style=\"text-align: right;\">\n",
       "      <th></th>\n",
       "      <th>item_id</th>\n",
       "      <th>content_type</th>\n",
       "      <th>title</th>\n",
       "      <th>title_orig</th>\n",
       "      <th>release_year</th>\n",
       "      <th>genres</th>\n",
       "      <th>countries</th>\n",
       "      <th>for_kids</th>\n",
       "      <th>age_rating</th>\n",
       "      <th>studios</th>\n",
       "      <th>directors</th>\n",
       "      <th>actors</th>\n",
       "      <th>description</th>\n",
       "      <th>keywords</th>\n",
       "    </tr>\n",
       "  </thead>\n",
       "  <tbody>\n",
       "    <tr>\n",
       "      <th>0</th>\n",
       "      <td>10711</td>\n",
       "      <td>film</td>\n",
       "      <td>Поговори с ней</td>\n",
       "      <td>Hable con ella</td>\n",
       "      <td>2002.0</td>\n",
       "      <td>драмы, зарубежные, детективы, мелодрамы</td>\n",
       "      <td>Испания</td>\n",
       "      <td>NaN</td>\n",
       "      <td>16.0</td>\n",
       "      <td>NaN</td>\n",
       "      <td>Педро Альмодовар</td>\n",
       "      <td>[Адольфо Фернандес, Ана Фернандес, Дарио Гранд...</td>\n",
       "      <td>[Мелодрама, легендарного, Педро, Альмодовара, ...</td>\n",
       "      <td>[Поговори, ней, 2002, Испания, друзья, любовь,...</td>\n",
       "    </tr>\n",
       "    <tr>\n",
       "      <th>1</th>\n",
       "      <td>2508</td>\n",
       "      <td>film</td>\n",
       "      <td>Голые перцы</td>\n",
       "      <td>Search Party</td>\n",
       "      <td>2014.0</td>\n",
       "      <td>зарубежные, приключения, комедии</td>\n",
       "      <td>США</td>\n",
       "      <td>NaN</td>\n",
       "      <td>16.0</td>\n",
       "      <td>NaN</td>\n",
       "      <td>Скот Армстронг</td>\n",
       "      <td>[Адам Палли, Брайан Хаски, Дж.Б. Смув, Джейсон...</td>\n",
       "      <td>[Уморительная, современная, комедия, на, попул...</td>\n",
       "      <td>[Голые, перцы, 2014, США, друзья, свадьбы, пре...</td>\n",
       "    </tr>\n",
       "    <tr>\n",
       "      <th>2</th>\n",
       "      <td>10716</td>\n",
       "      <td>film</td>\n",
       "      <td>Тактическая сила</td>\n",
       "      <td>Tactical Force</td>\n",
       "      <td>2011.0</td>\n",
       "      <td>криминал, зарубежные, триллеры, боевики, комедии</td>\n",
       "      <td>Канада</td>\n",
       "      <td>NaN</td>\n",
       "      <td>16.0</td>\n",
       "      <td>NaN</td>\n",
       "      <td>Адам П. Калтраро</td>\n",
       "      <td>[Адриан Холмс, Даррен Шалави, Джерри Вассерман...</td>\n",
       "      <td>[Профессиональный, рестлер, Стив, Остин, («Все...</td>\n",
       "      <td>[Тактическая, сила, 2011, Канада, бандиты, ган...</td>\n",
       "    </tr>\n",
       "    <tr>\n",
       "      <th>3</th>\n",
       "      <td>7868</td>\n",
       "      <td>film</td>\n",
       "      <td>45 лет</td>\n",
       "      <td>45 Years</td>\n",
       "      <td>2015.0</td>\n",
       "      <td>драмы, зарубежные, мелодрамы</td>\n",
       "      <td>Великобритания</td>\n",
       "      <td>NaN</td>\n",
       "      <td>16.0</td>\n",
       "      <td>NaN</td>\n",
       "      <td>Эндрю Хэй</td>\n",
       "      <td>[Александра Риддлстон-Барретт, Джеральдин Джей...</td>\n",
       "      <td>[Шарлотта, Рэмплинг,, Том, Кортни,, Джеральдин...</td>\n",
       "      <td>[45, лет, 2015, Великобритания, брак, жизнь, л...</td>\n",
       "    </tr>\n",
       "    <tr>\n",
       "      <th>4</th>\n",
       "      <td>11114</td>\n",
       "      <td>film</td>\n",
       "      <td>Принцесса Лебедь: Пират или принцесса</td>\n",
       "      <td>The Swan Princess: Princess Tomorrow, Pirate T...</td>\n",
       "      <td>2016.0</td>\n",
       "      <td>для детей, сказки, полнометражные, зарубежные,...</td>\n",
       "      <td>США</td>\n",
       "      <td>NaN</td>\n",
       "      <td>6.0</td>\n",
       "      <td>Sony Pictures</td>\n",
       "      <td>Ричард Рич</td>\n",
       "      <td>[Брайан Ниссен, Гарднер Джаэс, Грант Дураззо, ...</td>\n",
       "      <td>[Анимационная, сказка, о, непоседливой, принце...</td>\n",
       "      <td>[Принцесса, Лебедь, Пират, или, принцесса, 201...</td>\n",
       "    </tr>\n",
       "  </tbody>\n",
       "</table>\n",
       "</div>"
      ],
      "text/plain": [
       "   item_id content_type                                  title  \\\n",
       "0    10711         film                         Поговори с ней   \n",
       "1     2508         film                            Голые перцы   \n",
       "2    10716         film                       Тактическая сила   \n",
       "3     7868         film                                 45 лет   \n",
       "4    11114         film  Принцесса Лебедь: Пират или принцесса   \n",
       "\n",
       "                                          title_orig  release_year  \\\n",
       "0                                     Hable con ella        2002.0   \n",
       "1                                       Search Party        2014.0   \n",
       "2                                     Tactical Force        2011.0   \n",
       "3                                           45 Years        2015.0   \n",
       "4  The Swan Princess: Princess Tomorrow, Pirate T...        2016.0   \n",
       "\n",
       "                                              genres       countries  \\\n",
       "0            драмы, зарубежные, детективы, мелодрамы         Испания   \n",
       "1                   зарубежные, приключения, комедии             США   \n",
       "2   криминал, зарубежные, триллеры, боевики, комедии          Канада   \n",
       "3                       драмы, зарубежные, мелодрамы  Великобритания   \n",
       "4  для детей, сказки, полнометражные, зарубежные,...             США   \n",
       "\n",
       "   for_kids  age_rating        studios         directors  \\\n",
       "0       NaN        16.0            NaN  Педро Альмодовар   \n",
       "1       NaN        16.0            NaN    Скот Армстронг   \n",
       "2       NaN        16.0            NaN  Адам П. Калтраро   \n",
       "3       NaN        16.0            NaN         Эндрю Хэй   \n",
       "4       NaN         6.0  Sony Pictures        Ричард Рич   \n",
       "\n",
       "                                              actors  \\\n",
       "0  [Адольфо Фернандес, Ана Фернандес, Дарио Гранд...   \n",
       "1  [Адам Палли, Брайан Хаски, Дж.Б. Смув, Джейсон...   \n",
       "2  [Адриан Холмс, Даррен Шалави, Джерри Вассерман...   \n",
       "3  [Александра Риддлстон-Барретт, Джеральдин Джей...   \n",
       "4  [Брайан Ниссен, Гарднер Джаэс, Грант Дураззо, ...   \n",
       "\n",
       "                                         description  \\\n",
       "0  [Мелодрама, легендарного, Педро, Альмодовара, ...   \n",
       "1  [Уморительная, современная, комедия, на, попул...   \n",
       "2  [Профессиональный, рестлер, Стив, Остин, («Все...   \n",
       "3  [Шарлотта, Рэмплинг,, Том, Кортни,, Джеральдин...   \n",
       "4  [Анимационная, сказка, о, непоседливой, принце...   \n",
       "\n",
       "                                            keywords  \n",
       "0  [Поговори, ней, 2002, Испания, друзья, любовь,...  \n",
       "1  [Голые, перцы, 2014, США, друзья, свадьбы, пре...  \n",
       "2  [Тактическая, сила, 2011, Канада, бандиты, ган...  \n",
       "3  [45, лет, 2015, Великобритания, брак, жизнь, л...  \n",
       "4  [Принцесса, Лебедь, Пират, или, принцесса, 201...  "
      ]
     },
     "execution_count": 19,
     "metadata": {},
     "output_type": "execute_result"
    }
   ],
   "source": [
    "items_dataset.head()"
   ]
  },
  {
   "cell_type": "code",
   "execution_count": 20,
   "id": "7f04bae6",
   "metadata": {},
   "outputs": [
    {
     "data": {
      "text/plain": [
       "item_id             0\n",
       "content_type        0\n",
       "title               0\n",
       "title_orig       2923\n",
       "release_year       48\n",
       "genres              0\n",
       "countries          16\n",
       "for_kids        11539\n",
       "age_rating          1\n",
       "studios         11318\n",
       "directors         907\n",
       "actors           1799\n",
       "description         1\n",
       "keywords          362\n",
       "dtype: int64"
      ]
     },
     "execution_count": 20,
     "metadata": {},
     "output_type": "execute_result"
    }
   ],
   "source": [
    "items_dataset.isna().sum()"
   ]
  },
  {
   "cell_type": "code",
   "execution_count": 21,
   "id": "2def5e60",
   "metadata": {},
   "outputs": [],
   "source": [
    "percent_nan = percent_missing(items_dataset)"
   ]
  },
  {
   "cell_type": "code",
   "execution_count": 22,
   "id": "766d5b40",
   "metadata": {},
   "outputs": [
    {
     "data": {
      "image/png": "[encoded data removed]",
      "text/plain": [
       "<Figure size 640x480 with 1 Axes>"
      ]
     },
     "metadata": {},
     "output_type": "display_data"
    }
   ],
   "source": [
    "# рассчитываем процент пропущенных значений\n",
    "sns.barplot(x=percent_nan.index, y=percent_nan)\n",
    "plt.xticks(rotation = 90);"
   ]
  },
  {
   "cell_type": "markdown",
   "id": "6b8b2970",
   "metadata": {},
   "source": [
    "* Заметим, что title_orig содержит много пропущенных значений, в то же время в title нет ни одного пропущенного7 Поэтому будет брать ее в качетсве итогового колонки (также в ключевых словах названия фильмов на русском языке, как и в колонке title)\n",
    "* Аналогичная итория и с 'for kids'(заметим, что nan в данном случае - пропущенное значение), 'studios'. То есть в финальный датасет они не попадут"
   ]
  },
  {
   "cell_type": "code",
   "execution_count": 23,
   "id": "e128800d",
   "metadata": {},
   "outputs": [],
   "source": [
    "items_dataset = items_dataset.drop(columns=['for_kids', 'studios', 'title_orig'])"
   ]
  },
  {
   "cell_type": "code",
   "execution_count": 24,
   "id": "da1156a0",
   "metadata": {},
   "outputs": [],
   "source": [
    "# items_dataset['for_kids'].unique()"
   ]
  },
  {
   "cell_type": "code",
   "execution_count": 25,
   "id": "84e5205d",
   "metadata": {},
   "outputs": [],
   "source": [
    "# items_dataset[items_dataset['age_rating'].isnull()]\n",
    "# Только у одномого фильма отсутвуют данные, его мы удалим"
   ]
  },
  {
   "cell_type": "code",
   "execution_count": 26,
   "id": "eb013858",
   "metadata": {},
   "outputs": [],
   "source": [
    "# items_dataset[items_dataset['description'].isnull()]\n",
    "# Только у одномого фильма отсутвуют данные, его мы удалим"
   ]
  },
  {
   "cell_type": "code",
   "execution_count": 27,
   "id": "82102575",
   "metadata": {},
   "outputs": [],
   "source": [
    "# items_dataset[items_dataset['countries'].isnull()]\n",
    "# Только маленький процент строк имеет nan в 'countries'(также как можно заметить, у них отсутвуют и ряд других данных)\n",
    "# Поэтому можно их удалить"
   ]
  },
  {
   "cell_type": "code",
   "execution_count": 28,
   "id": "48b4f7d3",
   "metadata": {},
   "outputs": [],
   "source": [
    "items_dataset = items_dataset.dropna(axis=0, subset=['description', 'age_rating', 'countries', 'release_year'])"
   ]
  },
  {
   "cell_type": "code",
   "execution_count": 29,
   "id": "2d2fea72",
   "metadata": {},
   "outputs": [
    {
     "data": {
      "image/png": "[encoded data removed]",
      "text/plain": [
       "<Figure size 640x480 with 1 Axes>"
      ]
     },
     "metadata": {},
     "output_type": "display_data"
    }
   ],
   "source": [
    "percent_nan = percent_missing(items_dataset)\n",
    "sns.barplot(x=percent_nan.index, y=percent_nan)\n",
    "plt.xticks(rotation = 90);"
   ]
  },
  {
   "cell_type": "code",
   "execution_count": 30,
   "id": "261a9450",
   "metadata": {},
   "outputs": [
    {
     "data": {
      "text/plain": [
       "0        [Поговори, ней, 2002, Испания, друзья, любовь,...\n",
       "1        [Голые, перцы, 2014, США, друзья, свадьбы, пре...\n",
       "2        [Тактическая, сила, 2011, Канада, бандиты, ган...\n",
       "3        [45, лет, 2015, Великобритания, брак, жизнь, л...\n",
       "4        [Принцесса, Лебедь, Пират, или, принцесса, 201...\n",
       "                               ...                        \n",
       "12062    [убийство, вирус, расследование преступления, ...\n",
       "12063                              [Надежда, 2020, Россия]\n",
       "12064                               [Сговор, 2017, Россия]\n",
       "12065                        [Среди, камней, 2019, Россия]\n",
       "12066                                 [Гоша, 2019, Россия]\n",
       "Name: keywords, Length: 12007, dtype: object"
      ]
     },
     "execution_count": 30,
     "metadata": {},
     "output_type": "execute_result"
    }
   ],
   "source": [
    "items_dataset['directors'].fillna(\"Неизвестен\")\n",
    "items_dataset['actors'].fillna(\"Неизвестен\")\n",
    "items_dataset['keywords'].fillna(\"Неизвестен\")"
   ]
  },
  {
   "cell_type": "code",
   "execution_count": 31,
   "id": "a3ef908a",
   "metadata": {},
   "outputs": [
    {
     "data": {
      "text/plain": [
       "item_id            0\n",
       "content_type       0\n",
       "title              0\n",
       "release_year       0\n",
       "genres             0\n",
       "countries          0\n",
       "age_rating         0\n",
       "directors        849\n",
       "actors          1742\n",
       "description        0\n",
       "keywords         361\n",
       "dtype: int64"
      ]
     },
     "execution_count": 31,
     "metadata": {},
     "output_type": "execute_result"
    }
   ],
   "source": [
    "items_dataset.isna().sum()"
   ]
  },
  {
   "cell_type": "code",
   "execution_count": 32,
   "id": "e0587321",
   "metadata": {},
   "outputs": [
    {
     "data": {
      "text/html": [
       "<div>\n",
       "<style scoped>\n",
       "    .dataframe tbody tr th:only-of-type {\n",
       "        vertical-align: middle;\n",
       "    }\n",
       "\n",
       "    .dataframe tbody tr th {\n",
       "        vertical-align: top;\n",
       "    }\n",
       "\n",
       "    .dataframe thead th {\n",
       "        text-align: right;\n",
       "    }\n",
       "</style>\n",
       "<table border=\"1\" class=\"dataframe\">\n",
       "  <thead>\n",
       "    <tr style=\"text-align: right;\">\n",
       "      <th></th>\n",
       "      <th>item_id</th>\n",
       "      <th>content_type</th>\n",
       "      <th>title</th>\n",
       "      <th>release_year</th>\n",
       "      <th>genres</th>\n",
       "      <th>countries</th>\n",
       "      <th>age_rating</th>\n",
       "      <th>directors</th>\n",
       "      <th>actors</th>\n",
       "      <th>description</th>\n",
       "      <th>keywords</th>\n",
       "    </tr>\n",
       "  </thead>\n",
       "  <tbody>\n",
       "    <tr>\n",
       "      <th>0</th>\n",
       "      <td>10711</td>\n",
       "      <td>film</td>\n",
       "      <td>Поговори с ней</td>\n",
       "      <td>2002.0</td>\n",
       "      <td>драмы, зарубежные, детективы, мелодрамы</td>\n",
       "      <td>Испания</td>\n",
       "      <td>16.0</td>\n",
       "      <td>Педро Альмодовар</td>\n",
       "      <td>[Адольфо Фернандес, Ана Фернандес, Дарио Гранд...</td>\n",
       "      <td>[Мелодрама, легендарного, Педро, Альмодовара, ...</td>\n",
       "      <td>[Поговори, ней, 2002, Испания, друзья, любовь,...</td>\n",
       "    </tr>\n",
       "    <tr>\n",
       "      <th>1</th>\n",
       "      <td>2508</td>\n",
       "      <td>film</td>\n",
       "      <td>Голые перцы</td>\n",
       "      <td>2014.0</td>\n",
       "      <td>зарубежные, приключения, комедии</td>\n",
       "      <td>США</td>\n",
       "      <td>16.0</td>\n",
       "      <td>Скот Армстронг</td>\n",
       "      <td>[Адам Палли, Брайан Хаски, Дж.Б. Смув, Джейсон...</td>\n",
       "      <td>[Уморительная, современная, комедия, на, попул...</td>\n",
       "      <td>[Голые, перцы, 2014, США, друзья, свадьбы, пре...</td>\n",
       "    </tr>\n",
       "    <tr>\n",
       "      <th>2</th>\n",
       "      <td>10716</td>\n",
       "      <td>film</td>\n",
       "      <td>Тактическая сила</td>\n",
       "      <td>2011.0</td>\n",
       "      <td>криминал, зарубежные, триллеры, боевики, комедии</td>\n",
       "      <td>Канада</td>\n",
       "      <td>16.0</td>\n",
       "      <td>Адам П. Калтраро</td>\n",
       "      <td>[Адриан Холмс, Даррен Шалави, Джерри Вассерман...</td>\n",
       "      <td>[Профессиональный, рестлер, Стив, Остин, («Все...</td>\n",
       "      <td>[Тактическая, сила, 2011, Канада, бандиты, ган...</td>\n",
       "    </tr>\n",
       "    <tr>\n",
       "      <th>3</th>\n",
       "      <td>7868</td>\n",
       "      <td>film</td>\n",
       "      <td>45 лет</td>\n",
       "      <td>2015.0</td>\n",
       "      <td>драмы, зарубежные, мелодрамы</td>\n",
       "      <td>Великобритания</td>\n",
       "      <td>16.0</td>\n",
       "      <td>Эндрю Хэй</td>\n",
       "      <td>[Александра Риддлстон-Барретт, Джеральдин Джей...</td>\n",
       "      <td>[Шарлотта, Рэмплинг,, Том, Кортни,, Джеральдин...</td>\n",
       "      <td>[45, лет, 2015, Великобритания, брак, жизнь, л...</td>\n",
       "    </tr>\n",
       "    <tr>\n",
       "      <th>4</th>\n",
       "      <td>11114</td>\n",
       "      <td>film</td>\n",
       "      <td>Принцесса Лебедь: Пират или принцесса</td>\n",
       "      <td>2016.0</td>\n",
       "      <td>для детей, сказки, полнометражные, зарубежные,...</td>\n",
       "      <td>США</td>\n",
       "      <td>6.0</td>\n",
       "      <td>Ричард Рич</td>\n",
       "      <td>[Брайан Ниссен, Гарднер Джаэс, Грант Дураззо, ...</td>\n",
       "      <td>[Анимационная, сказка, о, непоседливой, принце...</td>\n",
       "      <td>[Принцесса, Лебедь, Пират, или, принцесса, 201...</td>\n",
       "    </tr>\n",
       "  </tbody>\n",
       "</table>\n",
       "</div>"
      ],
      "text/plain": [
       "   item_id content_type                                  title  release_year  \\\n",
       "0    10711         film                         Поговори с ней        2002.0   \n",
       "1     2508         film                            Голые перцы        2014.0   \n",
       "2    10716         film                       Тактическая сила        2011.0   \n",
       "3     7868         film                                 45 лет        2015.0   \n",
       "4    11114         film  Принцесса Лебедь: Пират или принцесса        2016.0   \n",
       "\n",
       "                                              genres       countries  \\\n",
       "0            драмы, зарубежные, детективы, мелодрамы         Испания   \n",
       "1                   зарубежные, приключения, комедии             США   \n",
       "2   криминал, зарубежные, триллеры, боевики, комедии          Канада   \n",
       "3                       драмы, зарубежные, мелодрамы  Великобритания   \n",
       "4  для детей, сказки, полнометражные, зарубежные,...             США   \n",
       "\n",
       "   age_rating         directors  \\\n",
       "0        16.0  Педро Альмодовар   \n",
       "1        16.0    Скот Армстронг   \n",
       "2        16.0  Адам П. Калтраро   \n",
       "3        16.0         Эндрю Хэй   \n",
       "4         6.0        Ричард Рич   \n",
       "\n",
       "                                              actors  \\\n",
       "0  [Адольфо Фернандес, Ана Фернандес, Дарио Гранд...   \n",
       "1  [Адам Палли, Брайан Хаски, Дж.Б. Смув, Джейсон...   \n",
       "2  [Адриан Холмс, Даррен Шалави, Джерри Вассерман...   \n",
       "3  [Александра Риддлстон-Барретт, Джеральдин Джей...   \n",
       "4  [Брайан Ниссен, Гарднер Джаэс, Грант Дураззо, ...   \n",
       "\n",
       "                                         description  \\\n",
       "0  [Мелодрама, легендарного, Педро, Альмодовара, ...   \n",
       "1  [Уморительная, современная, комедия, на, попул...   \n",
       "2  [Профессиональный, рестлер, Стив, Остин, («Все...   \n",
       "3  [Шарлотта, Рэмплинг,, Том, Кортни,, Джеральдин...   \n",
       "4  [Анимационная, сказка, о, непоседливой, принце...   \n",
       "\n",
       "                                            keywords  \n",
       "0  [Поговори, ней, 2002, Испания, друзья, любовь,...  \n",
       "1  [Голые, перцы, 2014, США, друзья, свадьбы, пре...  \n",
       "2  [Тактическая, сила, 2011, Канада, бандиты, ган...  \n",
       "3  [45, лет, 2015, Великобритания, брак, жизнь, л...  \n",
       "4  [Принцесса, Лебедь, Пират, или, принцесса, 201...  "
      ]
     },
     "execution_count": 32,
     "metadata": {},
     "output_type": "execute_result"
    }
   ],
   "source": [
    "items_dataset.head()"
   ]
  },
  {
   "cell_type": "markdown",
   "id": "e8daae1d",
   "metadata": {},
   "source": [
    "## Анализ Users"
   ]
  },
  {
   "cell_type": "code",
   "execution_count": 33,
   "id": "258f2564",
   "metadata": {},
   "outputs": [],
   "source": [
    "users_dataset = pd.read_csv('users.csv')"
   ]
  },
  {
   "cell_type": "code",
   "execution_count": 34,
   "id": "243383a0",
   "metadata": {},
   "outputs": [
    {
     "data": {
      "text/html": [
       "<div>\n",
       "<style scoped>\n",
       "    .dataframe tbody tr th:only-of-type {\n",
       "        vertical-align: middle;\n",
       "    }\n",
       "\n",
       "    .dataframe tbody tr th {\n",
       "        vertical-align: top;\n",
       "    }\n",
       "\n",
       "    .dataframe thead th {\n",
       "        text-align: right;\n",
       "    }\n",
       "</style>\n",
       "<table border=\"1\" class=\"dataframe\">\n",
       "  <thead>\n",
       "    <tr style=\"text-align: right;\">\n",
       "      <th></th>\n",
       "      <th>user_id</th>\n",
       "      <th>age</th>\n",
       "      <th>income</th>\n",
       "      <th>sex</th>\n",
       "      <th>kids_flg</th>\n",
       "    </tr>\n",
       "  </thead>\n",
       "  <tbody>\n",
       "    <tr>\n",
       "      <th>0</th>\n",
       "      <td>973171</td>\n",
       "      <td>age_25_34</td>\n",
       "      <td>income_60_90</td>\n",
       "      <td>М</td>\n",
       "      <td>1</td>\n",
       "    </tr>\n",
       "    <tr>\n",
       "      <th>1</th>\n",
       "      <td>962099</td>\n",
       "      <td>age_18_24</td>\n",
       "      <td>income_20_40</td>\n",
       "      <td>М</td>\n",
       "      <td>0</td>\n",
       "    </tr>\n",
       "    <tr>\n",
       "      <th>2</th>\n",
       "      <td>721985</td>\n",
       "      <td>age_45_54</td>\n",
       "      <td>income_20_40</td>\n",
       "      <td>Ж</td>\n",
       "      <td>0</td>\n",
       "    </tr>\n",
       "    <tr>\n",
       "      <th>3</th>\n",
       "      <td>704055</td>\n",
       "      <td>age_35_44</td>\n",
       "      <td>income_60_90</td>\n",
       "      <td>Ж</td>\n",
       "      <td>0</td>\n",
       "    </tr>\n",
       "    <tr>\n",
       "      <th>4</th>\n",
       "      <td>846063</td>\n",
       "      <td>age_35_44</td>\n",
       "      <td>income_40_60</td>\n",
       "      <td>Ж</td>\n",
       "      <td>1</td>\n",
       "    </tr>\n",
       "  </tbody>\n",
       "</table>\n",
       "</div>"
      ],
      "text/plain": [
       "   user_id        age        income sex  kids_flg\n",
       "0   973171  age_25_34  income_60_90   М         1\n",
       "1   962099  age_18_24  income_20_40   М         0\n",
       "2   721985  age_45_54  income_20_40   Ж         0\n",
       "3   704055  age_35_44  income_60_90   Ж         0\n",
       "4   846063  age_35_44  income_40_60   Ж         1"
      ]
     },
     "execution_count": 34,
     "metadata": {},
     "output_type": "execute_result"
    }
   ],
   "source": [
    "users_dataset.head()"
   ]
  },
  {
   "cell_type": "code",
   "execution_count": 35,
   "id": "7fd7e8aa",
   "metadata": {},
   "outputs": [
    {
     "data": {
      "text/html": [
       "<div>\n",
       "<style scoped>\n",
       "    .dataframe tbody tr th:only-of-type {\n",
       "        vertical-align: middle;\n",
       "    }\n",
       "\n",
       "    .dataframe tbody tr th {\n",
       "        vertical-align: top;\n",
       "    }\n",
       "\n",
       "    .dataframe thead th {\n",
       "        text-align: right;\n",
       "    }\n",
       "</style>\n",
       "<table border=\"1\" class=\"dataframe\">\n",
       "  <thead>\n",
       "    <tr style=\"text-align: right;\">\n",
       "      <th></th>\n",
       "      <th>user_id</th>\n",
       "      <th>kids_flg</th>\n",
       "    </tr>\n",
       "  </thead>\n",
       "  <tbody>\n",
       "    <tr>\n",
       "      <th>count</th>\n",
       "      <td>3.660880e+05</td>\n",
       "      <td>366088.000000</td>\n",
       "    </tr>\n",
       "    <tr>\n",
       "      <th>mean</th>\n",
       "      <td>5.488215e+05</td>\n",
       "      <td>0.324572</td>\n",
       "    </tr>\n",
       "    <tr>\n",
       "      <th>std</th>\n",
       "      <td>3.168316e+05</td>\n",
       "      <td>0.468215</td>\n",
       "    </tr>\n",
       "    <tr>\n",
       "      <th>min</th>\n",
       "      <td>0.000000e+00</td>\n",
       "      <td>0.000000</td>\n",
       "    </tr>\n",
       "    <tr>\n",
       "      <th>25%</th>\n",
       "      <td>2.741042e+05</td>\n",
       "      <td>0.000000</td>\n",
       "    </tr>\n",
       "    <tr>\n",
       "      <th>50%</th>\n",
       "      <td>5.491840e+05</td>\n",
       "      <td>0.000000</td>\n",
       "    </tr>\n",
       "    <tr>\n",
       "      <th>75%</th>\n",
       "      <td>8.229505e+05</td>\n",
       "      <td>1.000000</td>\n",
       "    </tr>\n",
       "    <tr>\n",
       "      <th>max</th>\n",
       "      <td>1.097557e+06</td>\n",
       "      <td>1.000000</td>\n",
       "    </tr>\n",
       "  </tbody>\n",
       "</table>\n",
       "</div>"
      ],
      "text/plain": [
       "            user_id       kids_flg\n",
       "count  3.660880e+05  366088.000000\n",
       "mean   5.488215e+05       0.324572\n",
       "std    3.168316e+05       0.468215\n",
       "min    0.000000e+00       0.000000\n",
       "25%    2.741042e+05       0.000000\n",
       "50%    5.491840e+05       0.000000\n",
       "75%    8.229505e+05       1.000000\n",
       "max    1.097557e+06       1.000000"
      ]
     },
     "execution_count": 35,
     "metadata": {},
     "output_type": "execute_result"
    }
   ],
   "source": [
    "users_dataset.describe()"
   ]
  },
  {
   "cell_type": "code",
   "execution_count": 36,
   "id": "4c4790ed",
   "metadata": {},
   "outputs": [
    {
     "name": "stdout",
     "output_type": "stream",
     "text": [
      "<class 'pandas.core.frame.DataFrame'>\n",
      "RangeIndex: 366088 entries, 0 to 366087\n",
      "Data columns (total 5 columns):\n",
      " #   Column    Non-Null Count   Dtype \n",
      "---  ------    --------------   ----- \n",
      " 0   user_id   366088 non-null  int64 \n",
      " 1   age       362506 non-null  object\n",
      " 2   income    362739 non-null  object\n",
      " 3   sex       362027 non-null  object\n",
      " 4   kids_flg  366088 non-null  int64 \n",
      "dtypes: int64(2), object(3)\n",
      "memory usage: 14.0+ MB\n"
     ]
    }
   ],
   "source": [
    "users_dataset.info()"
   ]
  },
  {
   "cell_type": "code",
   "execution_count": 37,
   "id": "fb76d9ea",
   "metadata": {},
   "outputs": [
    {
     "name": "stdout",
     "output_type": "stream",
     "text": [
      "Столбец age имеет следующие категории: ['age_25_34' 'age_18_24' 'age_45_54' 'age_35_44' 'age_55_64' 'age_65_inf'\n",
      " nan]\n",
      "Столбец income имеет следующие категории: ['income_60_90' 'income_20_40' 'income_40_60' 'income_90_150'\n",
      " 'income_0_20' nan 'income_150_inf']\n",
      "Столбец sex имеет следующие категории: ['М' 'Ж' nan]\n",
      "Столбец kids_flg имеет следующие категории: [1 0]\n"
     ]
    }
   ],
   "source": [
    "for column in users_dataset.columns:\n",
    "    if column != 'user_id':\n",
    "        print(f'Столбец {column} имеет следующие категории:', users_dataset[column].unique())"
   ]
  },
  {
   "cell_type": "code",
   "execution_count": 38,
   "id": "fa8602a0",
   "metadata": {},
   "outputs": [
    {
     "data": {
      "text/plain": [
       "user_id        0\n",
       "age         3582\n",
       "income      3349\n",
       "sex         4061\n",
       "kids_flg       0\n",
       "dtype: int64"
      ]
     },
     "execution_count": 38,
     "metadata": {},
     "output_type": "execute_result"
    }
   ],
   "source": [
    "users_dataset.isnull().sum()"
   ]
  },
  {
   "cell_type": "code",
   "execution_count": 39,
   "id": "26c4beca",
   "metadata": {},
   "outputs": [
    {
     "name": "stdout",
     "output_type": "stream",
     "text": [
      "There are 0 duplicate rows.\n"
     ]
    }
   ],
   "source": [
    "total_duplicate_titles = sum(users_dataset.duplicated())\n",
    "print(f\"There are {total_duplicate_titles} duplicate rows.\")"
   ]
  },
  {
   "cell_type": "code",
   "execution_count": 40,
   "id": "41eadf0b",
   "metadata": {},
   "outputs": [],
   "source": [
    "percent_nan = percent_missing(users_dataset)"
   ]
  },
  {
   "cell_type": "code",
   "execution_count": 41,
   "id": "bd35d497",
   "metadata": {},
   "outputs": [
    {
     "data": {
      "text/plain": [
       "income    0.914807\n",
       "age       0.978453\n",
       "sex       1.109296\n",
       "dtype: float64"
      ]
     },
     "execution_count": 41,
     "metadata": {},
     "output_type": "execute_result"
    }
   ],
   "source": [
    "percent_nan"
   ]
  },
  {
   "cell_type": "code",
   "execution_count": 42,
   "id": "f27f9847",
   "metadata": {},
   "outputs": [
    {
     "data": {
      "image/png": "[encoded data removed]",
      "text/plain": [
       "<Figure size 640x480 with 1 Axes>"
      ]
     },
     "metadata": {},
     "output_type": "display_data"
    }
   ],
   "source": [
    "# рассчитываем процент пропущенных значений\n",
    "sns.barplot(x=percent_nan.index, y=percent_nan)\n",
    "plt.xticks(rotation = 90);"
   ]
  },
  {
   "cell_type": "code",
   "execution_count": 43,
   "id": "d2157e53",
   "metadata": {},
   "outputs": [
    {
     "name": "stdout",
     "output_type": "stream",
     "text": [
      "Number of Nan in Income column 3349\n",
      "Number of Nan in Age column 3582\n",
      "Number of Nan in Sex column 4061\n",
      "Number of Nan in Income&Age&Sex column 2963\n"
     ]
    }
   ],
   "source": [
    "print('Number of Nan in Income column', len(users_dataset[users_dataset['income'].isnull()]))\n",
    "print('Number of Nan in Age column', len(users_dataset[users_dataset['age'].isnull()]))\n",
    "print('Number of Nan in Sex column', len(users_dataset[users_dataset['sex'].isnull()]))\n",
    "print('Number of Nan in Income&Age&Sex column', len(users_dataset[users_dataset['income'].isnull() & users_dataset['age'].isnull() & users_dataset['sex'].isnull()]))"
   ]
  },
  {
   "cell_type": "markdown",
   "id": "b478d6b1",
   "metadata": {},
   "source": [
    "Заметим, что процент пропущенных данных в этих колонках равен приблизительно 1%. Удаление этих данных не сильно повлияет на исходный массив, однако сделает recsys более точной"
   ]
  },
  {
   "cell_type": "code",
   "execution_count": 44,
   "id": "c92294d9",
   "metadata": {},
   "outputs": [],
   "source": [
    "users_dataset = users_dataset.dropna(axis=0, subset=['income', 'age', 'sex'])"
   ]
  },
  {
   "cell_type": "code",
   "execution_count": 45,
   "id": "535dbb5d",
   "metadata": {},
   "outputs": [
    {
     "data": {
      "text/plain": [
       "user_id     0\n",
       "age         0\n",
       "income      0\n",
       "sex         0\n",
       "kids_flg    0\n",
       "dtype: int64"
      ]
     },
     "execution_count": 45,
     "metadata": {},
     "output_type": "execute_result"
    }
   ],
   "source": [
    "users_dataset.isnull().sum()"
   ]
  },
  {
   "cell_type": "code",
   "execution_count": 46,
   "id": "ff7ad115",
   "metadata": {},
   "outputs": [
    {
     "data": {
      "text/plain": [
       "<AxesSubplot:>"
      ]
     },
     "execution_count": 46,
     "metadata": {},
     "output_type": "execute_result"
    },
    {
     "data": {
      "image/png": "[encoded data removed]",
      "text/plain": [
       "<Figure size 640x480 with 1 Axes>"
      ]
     },
     "metadata": {},
     "output_type": "display_data"
    }
   ],
   "source": [
    "users_dataset['age'].hist()"
   ]
  },
  {
   "cell_type": "code",
   "execution_count": null,
   "id": "75e917c6",
   "metadata": {},
   "outputs": [],
   "source": []
  },
  {
   "cell_type": "markdown",
   "id": "af8315bd",
   "metadata": {},
   "source": [
    "## Анализ train_data"
   ]
  },
  {
   "cell_type": "code",
   "execution_count": 47,
   "id": "3af3940d",
   "metadata": {},
   "outputs": [],
   "source": [
    "train_dataset = pd.read_csv('train_data.csv')"
   ]
  },
  {
   "cell_type": "code",
   "execution_count": 48,
   "id": "54e7b1ba",
   "metadata": {},
   "outputs": [
    {
     "data": {
      "text/html": [
       "<div>\n",
       "<style scoped>\n",
       "    .dataframe tbody tr th:only-of-type {\n",
       "        vertical-align: middle;\n",
       "    }\n",
       "\n",
       "    .dataframe tbody tr th {\n",
       "        vertical-align: top;\n",
       "    }\n",
       "\n",
       "    .dataframe thead th {\n",
       "        text-align: right;\n",
       "    }\n",
       "</style>\n",
       "<table border=\"1\" class=\"dataframe\">\n",
       "  <thead>\n",
       "    <tr style=\"text-align: right;\">\n",
       "      <th></th>\n",
       "      <th>user_id</th>\n",
       "      <th>item_id</th>\n",
       "      <th>last_watch_dt</th>\n",
       "      <th>total_dur</th>\n",
       "      <th>watched_pct</th>\n",
       "    </tr>\n",
       "  </thead>\n",
       "  <tbody>\n",
       "    <tr>\n",
       "      <th>0</th>\n",
       "      <td>176549</td>\n",
       "      <td>9506</td>\n",
       "      <td>2021-05-11</td>\n",
       "      <td>4250.0</td>\n",
       "      <td>72.0</td>\n",
       "    </tr>\n",
       "    <tr>\n",
       "      <th>1</th>\n",
       "      <td>699317</td>\n",
       "      <td>1659</td>\n",
       "      <td>2021-05-29</td>\n",
       "      <td>8317.0</td>\n",
       "      <td>100.0</td>\n",
       "    </tr>\n",
       "    <tr>\n",
       "      <th>2</th>\n",
       "      <td>656683</td>\n",
       "      <td>7107</td>\n",
       "      <td>2021-05-09</td>\n",
       "      <td>10.0</td>\n",
       "      <td>0.0</td>\n",
       "    </tr>\n",
       "    <tr>\n",
       "      <th>3</th>\n",
       "      <td>864613</td>\n",
       "      <td>7638</td>\n",
       "      <td>2021-07-05</td>\n",
       "      <td>14483.0</td>\n",
       "      <td>100.0</td>\n",
       "    </tr>\n",
       "    <tr>\n",
       "      <th>4</th>\n",
       "      <td>964868</td>\n",
       "      <td>9506</td>\n",
       "      <td>2021-04-30</td>\n",
       "      <td>6725.0</td>\n",
       "      <td>100.0</td>\n",
       "    </tr>\n",
       "  </tbody>\n",
       "</table>\n",
       "</div>"
      ],
      "text/plain": [
       "   user_id  item_id last_watch_dt  total_dur  watched_pct\n",
       "0   176549     9506    2021-05-11     4250.0         72.0\n",
       "1   699317     1659    2021-05-29     8317.0        100.0\n",
       "2   656683     7107    2021-05-09       10.0          0.0\n",
       "3   864613     7638    2021-07-05    14483.0        100.0\n",
       "4   964868     9506    2021-04-30     6725.0        100.0"
      ]
     },
     "execution_count": 48,
     "metadata": {},
     "output_type": "execute_result"
    }
   ],
   "source": [
    "train_dataset.head()"
   ]
  },
  {
   "cell_type": "code",
   "execution_count": 49,
   "id": "10bdc198",
   "metadata": {},
   "outputs": [
    {
     "data": {
      "text/html": [
       "<div>\n",
       "<style scoped>\n",
       "    .dataframe tbody tr th:only-of-type {\n",
       "        vertical-align: middle;\n",
       "    }\n",
       "\n",
       "    .dataframe tbody tr th {\n",
       "        vertical-align: top;\n",
       "    }\n",
       "\n",
       "    .dataframe thead th {\n",
       "        text-align: right;\n",
       "    }\n",
       "</style>\n",
       "<table border=\"1\" class=\"dataframe\">\n",
       "  <thead>\n",
       "    <tr style=\"text-align: right;\">\n",
       "      <th></th>\n",
       "      <th>user_id</th>\n",
       "      <th>item_id</th>\n",
       "      <th>total_dur</th>\n",
       "      <th>watched_pct</th>\n",
       "    </tr>\n",
       "  </thead>\n",
       "  <tbody>\n",
       "    <tr>\n",
       "      <th>count</th>\n",
       "      <td>1.224560e+06</td>\n",
       "      <td>1.224560e+06</td>\n",
       "      <td>1.224560e+06</td>\n",
       "      <td>1.224295e+06</td>\n",
       "    </tr>\n",
       "    <tr>\n",
       "      <th>mean</th>\n",
       "      <td>5.491677e+05</td>\n",
       "      <td>8.489881e+03</td>\n",
       "      <td>8.655139e+03</td>\n",
       "      <td>4.842976e+01</td>\n",
       "    </tr>\n",
       "    <tr>\n",
       "      <th>std</th>\n",
       "      <td>3.166305e+05</td>\n",
       "      <td>4.753527e+03</td>\n",
       "      <td>3.251046e+04</td>\n",
       "      <td>4.251957e+01</td>\n",
       "    </tr>\n",
       "    <tr>\n",
       "      <th>min</th>\n",
       "      <td>0.000000e+00</td>\n",
       "      <td>0.000000e+00</td>\n",
       "      <td>1.000000e+00</td>\n",
       "      <td>0.000000e+00</td>\n",
       "    </tr>\n",
       "    <tr>\n",
       "      <th>25%</th>\n",
       "      <td>2.750000e+05</td>\n",
       "      <td>4.285000e+03</td>\n",
       "      <td>3.890000e+02</td>\n",
       "      <td>5.000000e+00</td>\n",
       "    </tr>\n",
       "    <tr>\n",
       "      <th>50%</th>\n",
       "      <td>5.498290e+05</td>\n",
       "      <td>8.784000e+03</td>\n",
       "      <td>3.431000e+03</td>\n",
       "      <td>3.800000e+01</td>\n",
       "    </tr>\n",
       "    <tr>\n",
       "      <th>75%</th>\n",
       "      <td>8.225870e+05</td>\n",
       "      <td>1.268600e+04</td>\n",
       "      <td>7.401000e+03</td>\n",
       "      <td>1.000000e+02</td>\n",
       "    </tr>\n",
       "    <tr>\n",
       "      <th>max</th>\n",
       "      <td>1.097557e+06</td>\n",
       "      <td>1.651800e+04</td>\n",
       "      <td>6.147245e+06</td>\n",
       "      <td>1.000000e+02</td>\n",
       "    </tr>\n",
       "  </tbody>\n",
       "</table>\n",
       "</div>"
      ],
      "text/plain": [
       "            user_id       item_id     total_dur   watched_pct\n",
       "count  1.224560e+06  1.224560e+06  1.224560e+06  1.224295e+06\n",
       "mean   5.491677e+05  8.489881e+03  8.655139e+03  4.842976e+01\n",
       "std    3.166305e+05  4.753527e+03  3.251046e+04  4.251957e+01\n",
       "min    0.000000e+00  0.000000e+00  1.000000e+00  0.000000e+00\n",
       "25%    2.750000e+05  4.285000e+03  3.890000e+02  5.000000e+00\n",
       "50%    5.498290e+05  8.784000e+03  3.431000e+03  3.800000e+01\n",
       "75%    8.225870e+05  1.268600e+04  7.401000e+03  1.000000e+02\n",
       "max    1.097557e+06  1.651800e+04  6.147245e+06  1.000000e+02"
      ]
     },
     "execution_count": 49,
     "metadata": {},
     "output_type": "execute_result"
    }
   ],
   "source": [
    "train_dataset.describe()"
   ]
  },
  {
   "cell_type": "code",
   "execution_count": 50,
   "id": "86c13bae",
   "metadata": {},
   "outputs": [
    {
     "name": "stdout",
     "output_type": "stream",
     "text": [
      "<class 'pandas.core.frame.DataFrame'>\n",
      "RangeIndex: 1224560 entries, 0 to 1224559\n",
      "Data columns (total 5 columns):\n",
      " #   Column         Non-Null Count    Dtype  \n",
      "---  ------         --------------    -----  \n",
      " 0   user_id        1224560 non-null  int64  \n",
      " 1   item_id        1224560 non-null  int64  \n",
      " 2   last_watch_dt  1224560 non-null  object \n",
      " 3   total_dur      1224560 non-null  float64\n",
      " 4   watched_pct    1224295 non-null  float64\n",
      "dtypes: float64(2), int64(2), object(1)\n",
      "memory usage: 46.7+ MB\n"
     ]
    }
   ],
   "source": [
    "train_dataset.info()"
   ]
  },
  {
   "cell_type": "code",
   "execution_count": 51,
   "id": "6d2167aa",
   "metadata": {},
   "outputs": [
    {
     "data": {
      "text/plain": [
       "user_id            0\n",
       "item_id            0\n",
       "last_watch_dt      0\n",
       "total_dur          0\n",
       "watched_pct      265\n",
       "dtype: int64"
      ]
     },
     "execution_count": 51,
     "metadata": {},
     "output_type": "execute_result"
    }
   ],
   "source": [
    "train_dataset.isnull().sum()"
   ]
  },
  {
   "cell_type": "code",
   "execution_count": 52,
   "id": "5bb77e4a",
   "metadata": {},
   "outputs": [],
   "source": [
    "train_dataset = train_dataset.dropna(axis=0, subset=['watched_pct'])"
   ]
  },
  {
   "cell_type": "code",
   "execution_count": 53,
   "id": "58ca02ff",
   "metadata": {},
   "outputs": [
    {
     "data": {
      "text/plain": [
       "user_id          0\n",
       "item_id          0\n",
       "last_watch_dt    0\n",
       "total_dur        0\n",
       "watched_pct      0\n",
       "dtype: int64"
      ]
     },
     "execution_count": 53,
     "metadata": {},
     "output_type": "execute_result"
    }
   ],
   "source": [
    "train_dataset.isnull().sum()"
   ]
  },
  {
   "cell_type": "markdown",
   "id": "3bdb6f07",
   "metadata": {},
   "source": [
    "## Merging all data"
   ]
  },
  {
   "cell_type": "code",
   "execution_count": 54,
   "id": "08baa287",
   "metadata": {},
   "outputs": [],
   "source": [
    "# df = pd.merge(left = train_dataset, right = items_dataset, how = 'inner', on = 'item_id')"
   ]
  },
  {
   "cell_type": "code",
   "execution_count": 55,
   "id": "6877eb50",
   "metadata": {},
   "outputs": [],
   "source": [
    "# df = pd.merge(df, users_dataset, how = 'inner', on = 'user_id')"
   ]
  },
  {
   "cell_type": "code",
   "execution_count": 56,
   "id": "82c38ead",
   "metadata": {},
   "outputs": [],
   "source": [
    "# df.head()"
   ]
  },
  {
   "cell_type": "markdown",
   "id": "0126d042",
   "metadata": {},
   "source": [
    "## Exploratory data analysis (EDA)"
   ]
  },
  {
   "cell_type": "code",
   "execution_count": 57,
   "id": "415070e0",
   "metadata": {},
   "outputs": [],
   "source": [
    "# df.corr()"
   ]
  },
  {
   "cell_type": "code",
   "execution_count": 58,
   "id": "2cc2a9eb",
   "metadata": {},
   "outputs": [
    {
     "data": {
      "text/plain": [
       "<AxesSubplot:xlabel='content_type', ylabel='count'>"
      ]
     },
     "execution_count": 58,
     "metadata": {},
     "output_type": "execute_result"
    },
    {
     "data": {
      "image/png": "[encoded data removed]",
      "text/plain": [
       "<Figure size 640x480 with 1 Axes>"
      ]
     },
     "metadata": {},
     "output_type": "display_data"
    }
   ],
   "source": [
    "sns.countplot(data = items_dataset, x = 'content_type')"
   ]
  },
  {
   "cell_type": "code",
   "execution_count": 59,
   "id": "0308d695",
   "metadata": {},
   "outputs": [
    {
     "data": {
      "image/png": "[encoded data removed]",
      "text/plain": [
       "<Figure size 640x480 with 1 Axes>"
      ]
     },
     "metadata": {},
     "output_type": "display_data"
    }
   ],
   "source": [
    "sns.histplot(data=users_dataset, x = 'age')\n",
    "plt.xticks(rotation=-45);"
   ]
  },
  {
   "cell_type": "code",
   "execution_count": 60,
   "id": "412e87ef",
   "metadata": {},
   "outputs": [
    {
     "data": {
      "text/plain": [
       "<AxesSubplot:xlabel='sex', ylabel='Count'>"
      ]
     },
     "execution_count": 60,
     "metadata": {},
     "output_type": "execute_result"
    },
    {
     "data": {
      "image/png": "[encoded data removed]",
      "text/plain": [
       "<Figure size 640x480 with 1 Axes>"
      ]
     },
     "metadata": {},
     "output_type": "display_data"
    }
   ],
   "source": [
    "sns.histplot(data=users_dataset, x = 'sex')"
   ]
  },
  {
   "cell_type": "code",
   "execution_count": 61,
   "id": "b506842c",
   "metadata": {},
   "outputs": [
    {
     "data": {
      "image/png": "[encoded data removed]",
      "text/plain": [
       "<Figure size 640x480 with 1 Axes>"
      ]
     },
     "metadata": {},
     "output_type": "display_data"
    }
   ],
   "source": [
    "sns.histplot(data=users_dataset, x = 'income')\n",
    "plt.xticks(rotation=-45);"
   ]
  },
  {
   "cell_type": "markdown",
   "id": "4729320b",
   "metadata": {},
   "source": [
    "Стоит отметить, что есть разные виды рекомедательных систем (спасибо кейсу от Тинькофф, который подтолкнул разобраться с ними)\n",
    "* Demographic Filtering: Обобщенные рекомендации, которые никак не персоналихированы. Слишком простая и не эффективная модель\n",
    "* Content-based Filtering: здесь рекомендации строятся на основе метаданных. Если пользователю нравится элемент, то ему нравятся и похожие на него предметы\n",
    "* Collaboration-based Filtering: идет группировка пользователей по общим интересам\n",
    "\n",
    "В своей работе я рассмотрю 2 последние модели и сравню их основные метрики между собой "
   ]
  },
  {
   "cell_type": "markdown",
   "id": "0eebf43a",
   "metadata": {},
   "source": [
    "## Content-based Filtering\n",
    "в качестве параметров возьмем ['title', 'genres', 'counries', 'directors', 'keyword', 'actors'] из таблицы items"
   ]
  },
  {
   "cell_type": "code",
   "execution_count": 62,
   "id": "cf7af6e4",
   "metadata": {},
   "outputs": [],
   "source": [
    "def clean_data(row):\n",
    "    if isinstance(row, list):\n",
    "        return [str.lower(i.replace(\" \", \"\")) for i in row]\n",
    "    else:\n",
    "        if isinstance(row, str):\n",
    "            return str.lower(row.replace(\" \", \"\"))\n",
    "        else:\n",
    "            return \"\"\n",
    "        \n",
    "\n",
    "def create_soup(features):\n",
    "    return ' '.join(features['keywords']) + ' ' + ' '.join(features['actors']) + ' ' + features['directors'] + ' ' + ' '.join(features['genres']) + ' ' + ' '.join(features['countries'])"
   ]
  },
  {
   "cell_type": "code",
   "execution_count": 63,
   "id": "e0b235cb",
   "metadata": {},
   "outputs": [],
   "source": [
    "items_dataset_copy = items_dataset.copy()\n",
    "features = ['genres', 'countries', 'directors', 'keywords', 'actors'] \n",
    "for feature in features:\n",
    "    items_dataset_copy[feature] = items_dataset_copy[feature].apply(clean_data)"
   ]
  },
  {
   "cell_type": "code",
   "execution_count": 64,
   "id": "d31a834f",
   "metadata": {},
   "outputs": [],
   "source": [
    "items_dataset_copy[\"soup\"] = items_dataset_copy.apply(create_soup, axis = 1)"
   ]
  },
  {
   "cell_type": "code",
   "execution_count": 65,
   "id": "4bb57282",
   "metadata": {},
   "outputs": [],
   "source": [
    "rus_stop_words = stop_words = [\"а\",\"е\",\"и\",\"ж\",\"м\",\"о\",\"на\",\"не\",\"ни\",\"об\",\"но\",\"он\",\"мне\",\"мои\",\"мож\",\"она\",\"они\",\"оно\",\"мной\",\"много\",\"многочисленное\",\"многочисленная\",\"многочисленные\",\"многочисленный\",\"мною\",\"мой\",\"мог\",\"могут\",\"можно\",\"может\",\"можхо\",\"мор\",\"моя\",\"моё\",\"мочь\",\"над\",\"нее\",\"оба\",\"нам\",\"нем\",\"нами\",\"ними\",\"мимо\",\"немного\",\"одной\",\"одного\",\"менее\",\"однажды\",\"однако\",\"меня\",\"нему\",\"меньше\",\"ней\",\"наверху\",\"него\",\"ниже\",\"мало\",\"надо\",\"один\",\"одиннадцать\",\"одиннадцатый\",\"назад\",\"наиболее\",\"недавно\",\"миллионов\",\"недалеко\",\"между\",\"низко\",\"меля\",\"нельзя\",\"нибудь\",\"непрерывно\",\"наконец\",\"никогда\",\"никуда\",\"нас\",\"наш\",\"нет\",\"нею\",\"неё\",\"них\",\"мира\",\"наша\",\"наше\",\"наши\",\"ничего\",\"начала\",\"нередко\",\"несколько\",\"обычно\",\"опять\",\"около\",\"мы\",\"ну\",\"нх\",\"от\",\"отовсюду\",\"особенно\",\"нужно\",\"очень\",\"отсюда\",\"в\",\"во\",\"вон\",\"вниз\",\"внизу\",\"вокруг\",\"вот\",\"восемнадцать\",\"восемнадцатый\",\"восемь\",\"восьмой\",\"вверх\",\"вам\",\"вами\",\"важное\",\"важная\",\"важные\",\"важный\",\"вдали\",\"везде\",\"ведь\",\"вас\",\"ваш\",\"ваша\",\"ваше\",\"ваши\",\"впрочем\",\"весь\",\"вдруг\",\"вы\",\"все\",\"второй\",\"всем\",\"всеми\",\"времени\",\"время\",\"всему\",\"всего\",\"всегда\",\"всех\",\"всею\",\"всю\",\"вся\",\"всё\",\"всюду\",\"г\",\"год\",\"говорил\",\"говорит\",\"года\",\"году\",\"где\",\"да\",\"ее\",\"за\",\"из\",\"ли\",\"же\",\"им\",\"до\",\"по\",\"ими\",\"под\",\"иногда\",\"довольно\",\"именно\",\"долго\",\"позже\",\"более\",\"должно\",\"пожалуйста\",\"значит\",\"иметь\",\"больше\",\"пока\",\"ему\",\"имя\",\"пор\",\"пора\",\"потом\",\"потому\",\"после\",\"почему\",\"почти\",\"посреди\",\"ей\",\"два\",\"две\",\"двенадцать\",\"двенадцатый\",\"двадцать\",\"двадцатый\",\"двух\",\"его\",\"дел\",\"или\",\"без\",\"день\",\"занят\",\"занята\",\"занято\",\"заняты\",\"действительно\",\"давно\",\"девятнадцать\",\"девятнадцатый\",\"девять\",\"девятый\",\"даже\",\"алло\",\"жизнь\",\"далеко\",\"близко\",\"здесь\",\"дальше\",\"для\",\"лет\",\"зато\",\"даром\",\"первый\",\"перед\",\"затем\",\"зачем\",\"лишь\",\"десять\",\"десятый\",\"ею\",\"её\",\"их\",\"бы\",\"еще\",\"при\",\"был\",\"про\",\"процентов\",\"против\",\"просто\",\"бывает\",\"бывь\",\"если\",\"люди\",\"была\",\"были\",\"было\",\"будем\",\"будет\",\"будете\",\"будешь\",\"прекрасно\",\"буду\",\"будь\",\"будто\",\"будут\",\"ещё\",\"пятнадцать\",\"пятнадцатый\",\"друго\",\"другое\",\"другой\",\"другие\",\"другая\",\"других\",\"есть\",\"пять\",\"быть\",\"лучше\",\"пятый\",\"к\",\"ком\",\"конечно\",\"кому\",\"кого\",\"когда\",\"которой\",\"которого\",\"которая\",\"которые\",\"который\",\"которых\",\"кем\",\"каждое\",\"каждая\",\"каждые\",\"каждый\",\"кажется\",\"как\",\"какой\",\"какая\",\"кто\",\"кроме\",\"куда\",\"кругом\",\"с\",\"т\",\"у\",\"я\",\"та\",\"те\",\"уж\",\"со\",\"то\",\"том\",\"снова\",\"тому\",\"совсем\",\"того\",\"тогда\",\"тоже\",\"собой\",\"тобой\",\"собою\",\"тобою\",\"сначала\",\"только\",\"уметь\",\"тот\",\"тою\",\"хорошо\",\"хотеть\",\"хочешь\",\"хоть\",\"хотя\",\"свое\",\"свои\",\"твой\",\"своей\",\"своего\",\"своих\",\"свою\",\"твоя\",\"твоё\",\"раз\",\"уже\",\"сам\",\"там\",\"тем\",\"чем\",\"сама\",\"сами\",\"теми\",\"само\",\"рано\",\"самом\",\"самому\",\"самой\",\"самого\",\"семнадцать\",\"семнадцатый\",\"самим\",\"самими\",\"самих\",\"саму\",\"семь\",\"чему\",\"раньше\",\"сейчас\",\"чего\",\"сегодня\",\"себе\",\"тебе\",\"сеаой\",\"человек\",\"разве\",\"теперь\",\"себя\",\"тебя\",\"седьмой\",\"спасибо\",\"слишком\",\"так\",\"такое\",\"такой\",\"такие\",\"также\",\"такая\",\"сих\",\"тех\",\"чаще\",\"четвертый\",\"через\",\"часто\",\"шестой\",\"шестнадцать\",\"шестнадцатый\",\"шесть\",\"четыре\",\"четырнадцать\",\"четырнадцатый\",\"сколько\",\"сказал\",\"сказала\",\"сказать\",\"ту\",\"ты\",\"три\",\"эта\",\"эти\",\"что\",\"это\",\"чтоб\",\"этом\",\"этому\",\"этой\",\"этого\",\"чтобы\",\"этот\",\"стал\",\"туда\",\"этим\",\"этими\",\"рядом\",\"тринадцать\",\"тринадцатый\",\"этих\",\"третий\",\"тут\",\"эту\",\"суть\",\"чуть\",\"тысяч\"] + list(np.arange(1,2023))"
   ]
  },
  {
   "cell_type": "code",
   "execution_count": 66,
   "id": "8d04bb2c",
   "metadata": {},
   "outputs": [],
   "source": [
    "count_vectorizer = TfidfVectorizer(stop_words=rus_stop_words) #удаляем все русский стоп слова"
   ]
  },
  {
   "cell_type": "code",
   "execution_count": 67,
   "id": "1e53aa75",
   "metadata": {},
   "outputs": [],
   "source": [
    "count_matrix = count_vectorizer.fit_transform(items_dataset_copy['soup'])"
   ]
  },
  {
   "cell_type": "code",
   "execution_count": 68,
   "id": "43d973d8",
   "metadata": {},
   "outputs": [
    {
     "name": "stdout",
     "output_type": "stream",
     "text": [
      "(12007, 89987)\n"
     ]
    }
   ],
   "source": [
    "print(count_matrix.shape)"
   ]
  },
  {
   "cell_type": "code",
   "execution_count": 95,
   "id": "4b5cd537",
   "metadata": {},
   "outputs": [],
   "source": [
    "cosine_sim2 = linear_kernel(count_matrix, count_matrix) \n",
    "# items_dataset_copy = items_dataset_copy.reset_index()\n",
    "indices = pd.Series(items_dataset_copy.index, index=items_dataset_copy['item_id']).drop_duplicates()"
   ]
  },
  {
   "cell_type": "code",
   "execution_count": 96,
   "id": "6a6f0c7c",
   "metadata": {},
   "outputs": [
    {
     "name": "stdout",
     "output_type": "stream",
     "text": [
      "(12007, 12007)\n"
     ]
    }
   ],
   "source": [
    "print(cosine_sim2.shape)"
   ]
  },
  {
   "cell_type": "code",
   "execution_count": 97,
   "id": "ad908959",
   "metadata": {},
   "outputs": [],
   "source": [
    "def get_recommendations(item_id, cosine_sim=cosine_sim2):\n",
    "    idx = indices[item_id]\n",
    "    similarity_scores = list(enumerate(cosine_sim[idx]))\n",
    "    similarity_scores= sorted(similarity_scores, key=lambda x: x[1], reverse=True)\n",
    "    similarity_scores= similarity_scores[1:11]\n",
    "    movies_indices = [ind[0] for ind in similarity_scores]\n",
    "    return items_dataset['item_id'].iloc[movies_indices]"
   ]
  },
  {
   "cell_type": "code",
   "execution_count": 101,
   "id": "c3ad4563",
   "metadata": {},
   "outputs": [],
   "source": [
    "# indices[153]"
   ]
  },
  {
   "cell_type": "code",
   "execution_count": 102,
   "id": "8425affb",
   "metadata": {},
   "outputs": [],
   "source": [
    "train_part = train_dataset.copy() # Делаем копию тренировочного датасета\n",
    "train_part = train_dataset.groupby(\"item_id\").agg({\"user_id\":  \"count\"}).reset_index()\n",
    "# Добавляем столбец Count_of_views, в который помещаем количество просмотров каждого фильма\n",
    "train_part.rename(columns={\"user_id\": \"Count_of_views\"}, inplace=True)\n",
    "np_train_part = np.array(train_part['item_id'])\n",
    "train_part['similar_films'] = None  # Создаем пустой столбец в DataFrame"
   ]
  },
  {
   "cell_type": "code",
   "execution_count": 103,
   "id": "4f6a04f7",
   "metadata": {},
   "outputs": [
    {
     "data": {
      "application/vnd.jupyter.widget-view+json": {
       "model_id": "55fd99e1988846d89387b6dbff49c66b",
       "version_major": 2,
       "version_minor": 0
      },
      "text/plain": [
       "  0%|          | 0/12014 [00:00<?, ?it/s]"
      ]
     },
     "metadata": {},
     "output_type": "display_data"
    },
    {
     "ename": "KeyError",
     "evalue": "153",
     "output_type": "error",
     "traceback": [
      "\u001b[0;31m---------------------------------------------------------------------------\u001b[0m",
      "\u001b[0;31mKeyError\u001b[0m                                  Traceback (most recent call last)",
      "\u001b[0;32m~/anaconda/anaconda3/lib/python3.9/site-packages/pandas/core/indexes/base.py\u001b[0m in \u001b[0;36mget_loc\u001b[0;34m(self, key, method, tolerance)\u001b[0m\n\u001b[1;32m   3628\u001b[0m             \u001b[0;32mtry\u001b[0m\u001b[0;34m:\u001b[0m\u001b[0;34m\u001b[0m\u001b[0;34m\u001b[0m\u001b[0m\n\u001b[0;32m-> 3629\u001b[0;31m                 \u001b[0;32mreturn\u001b[0m \u001b[0mself\u001b[0m\u001b[0;34m.\u001b[0m\u001b[0m_engine\u001b[0m\u001b[0;34m.\u001b[0m\u001b[0mget_loc\u001b[0m\u001b[0;34m(\u001b[0m\u001b[0mcasted_key\u001b[0m\u001b[0;34m)\u001b[0m\u001b[0;34m\u001b[0m\u001b[0;34m\u001b[0m\u001b[0m\n\u001b[0m\u001b[1;32m   3630\u001b[0m             \u001b[0;32mexcept\u001b[0m \u001b[0mKeyError\u001b[0m \u001b[0;32mas\u001b[0m \u001b[0merr\u001b[0m\u001b[0;34m:\u001b[0m\u001b[0;34m\u001b[0m\u001b[0;34m\u001b[0m\u001b[0m\n",
      "\u001b[0;32m~/anaconda/anaconda3/lib/python3.9/site-packages/pandas/_libs/index.pyx\u001b[0m in \u001b[0;36mpandas._libs.index.IndexEngine.get_loc\u001b[0;34m()\u001b[0m\n",
      "\u001b[0;32m~/anaconda/anaconda3/lib/python3.9/site-packages/pandas/_libs/index.pyx\u001b[0m in \u001b[0;36mpandas._libs.index.IndexEngine.get_loc\u001b[0;34m()\u001b[0m\n",
      "\u001b[0;32mpandas/_libs/hashtable_class_helper.pxi\u001b[0m in \u001b[0;36mpandas._libs.hashtable.Int64HashTable.get_item\u001b[0;34m()\u001b[0m\n",
      "\u001b[0;32mpandas/_libs/hashtable_class_helper.pxi\u001b[0m in \u001b[0;36mpandas._libs.hashtable.Int64HashTable.get_item\u001b[0;34m()\u001b[0m\n",
      "\u001b[0;31mKeyError\u001b[0m: 153",
      "\nThe above exception was the direct cause of the following exception:\n",
      "\u001b[0;31mKeyError\u001b[0m                                  Traceback (most recent call last)",
      "\u001b[0;32m/var/folders/br/j_3hvxz52vvf1m3b2c0m3mkc0000gn/T/ipykernel_14942/1878945140.py\u001b[0m in \u001b[0;36m<module>\u001b[0;34m\u001b[0m\n\u001b[1;32m      1\u001b[0m \u001b[0;32mfor\u001b[0m \u001b[0mi\u001b[0m \u001b[0;32min\u001b[0m \u001b[0mtqdm\u001b[0m\u001b[0;34m(\u001b[0m\u001b[0mrange\u001b[0m\u001b[0;34m(\u001b[0m\u001b[0mlen\u001b[0m\u001b[0;34m(\u001b[0m\u001b[0mnp_train_part\u001b[0m\u001b[0;34m)\u001b[0m\u001b[0;34m)\u001b[0m\u001b[0;34m)\u001b[0m\u001b[0;34m:\u001b[0m\u001b[0;34m\u001b[0m\u001b[0;34m\u001b[0m\u001b[0m\n\u001b[0;32m----> 2\u001b[0;31m     \u001b[0mtrain_part\u001b[0m\u001b[0;34m.\u001b[0m\u001b[0mat\u001b[0m\u001b[0;34m[\u001b[0m\u001b[0mi\u001b[0m\u001b[0;34m,\u001b[0m \u001b[0;34m'similar_films'\u001b[0m\u001b[0;34m]\u001b[0m \u001b[0;34m=\u001b[0m \u001b[0mlist\u001b[0m\u001b[0;34m(\u001b[0m\u001b[0mget_recommendations\u001b[0m\u001b[0;34m(\u001b[0m\u001b[0mnp_train_part\u001b[0m\u001b[0;34m[\u001b[0m\u001b[0mi\u001b[0m\u001b[0;34m]\u001b[0m\u001b[0;34m)\u001b[0m\u001b[0;34m)\u001b[0m\u001b[0;34m\u001b[0m\u001b[0;34m\u001b[0m\u001b[0m\n\u001b[0m",
      "\u001b[0;32m/var/folders/br/j_3hvxz52vvf1m3b2c0m3mkc0000gn/T/ipykernel_14942/1626625878.py\u001b[0m in \u001b[0;36mget_recommendations\u001b[0;34m(item_id, cosine_sim)\u001b[0m\n\u001b[1;32m      1\u001b[0m \u001b[0;32mdef\u001b[0m \u001b[0mget_recommendations\u001b[0m\u001b[0;34m(\u001b[0m\u001b[0mitem_id\u001b[0m\u001b[0;34m,\u001b[0m \u001b[0mcosine_sim\u001b[0m\u001b[0;34m=\u001b[0m\u001b[0mcosine_sim2\u001b[0m\u001b[0;34m)\u001b[0m\u001b[0;34m:\u001b[0m\u001b[0;34m\u001b[0m\u001b[0;34m\u001b[0m\u001b[0m\n\u001b[0;32m----> 2\u001b[0;31m     \u001b[0midx\u001b[0m \u001b[0;34m=\u001b[0m \u001b[0mindices\u001b[0m\u001b[0;34m[\u001b[0m\u001b[0mitem_id\u001b[0m\u001b[0;34m]\u001b[0m\u001b[0;34m\u001b[0m\u001b[0;34m\u001b[0m\u001b[0m\n\u001b[0m\u001b[1;32m      3\u001b[0m     \u001b[0msimilarity_scores\u001b[0m \u001b[0;34m=\u001b[0m \u001b[0mlist\u001b[0m\u001b[0;34m(\u001b[0m\u001b[0menumerate\u001b[0m\u001b[0;34m(\u001b[0m\u001b[0mcosine_sim\u001b[0m\u001b[0;34m[\u001b[0m\u001b[0midx\u001b[0m\u001b[0;34m]\u001b[0m\u001b[0;34m)\u001b[0m\u001b[0;34m)\u001b[0m\u001b[0;34m\u001b[0m\u001b[0;34m\u001b[0m\u001b[0m\n\u001b[1;32m      4\u001b[0m     \u001b[0msimilarity_scores\u001b[0m\u001b[0;34m=\u001b[0m \u001b[0msorted\u001b[0m\u001b[0;34m(\u001b[0m\u001b[0msimilarity_scores\u001b[0m\u001b[0;34m,\u001b[0m \u001b[0mkey\u001b[0m\u001b[0;34m=\u001b[0m\u001b[0;32mlambda\u001b[0m \u001b[0mx\u001b[0m\u001b[0;34m:\u001b[0m \u001b[0mx\u001b[0m\u001b[0;34m[\u001b[0m\u001b[0;36m1\u001b[0m\u001b[0;34m]\u001b[0m\u001b[0;34m,\u001b[0m \u001b[0mreverse\u001b[0m\u001b[0;34m=\u001b[0m\u001b[0;32mTrue\u001b[0m\u001b[0;34m)\u001b[0m\u001b[0;34m\u001b[0m\u001b[0;34m\u001b[0m\u001b[0m\n\u001b[1;32m      5\u001b[0m     \u001b[0msimilarity_scores\u001b[0m\u001b[0;34m=\u001b[0m \u001b[0msimilarity_scores\u001b[0m\u001b[0;34m[\u001b[0m\u001b[0;36m1\u001b[0m\u001b[0;34m:\u001b[0m\u001b[0;36m11\u001b[0m\u001b[0;34m]\u001b[0m\u001b[0;34m\u001b[0m\u001b[0;34m\u001b[0m\u001b[0m\n",
      "\u001b[0;32m~/anaconda/anaconda3/lib/python3.9/site-packages/pandas/core/series.py\u001b[0m in \u001b[0;36m__getitem__\u001b[0;34m(self, key)\u001b[0m\n\u001b[1;32m    956\u001b[0m \u001b[0;34m\u001b[0m\u001b[0m\n\u001b[1;32m    957\u001b[0m         \u001b[0;32melif\u001b[0m \u001b[0mkey_is_scalar\u001b[0m\u001b[0;34m:\u001b[0m\u001b[0;34m\u001b[0m\u001b[0;34m\u001b[0m\u001b[0m\n\u001b[0;32m--> 958\u001b[0;31m             \u001b[0;32mreturn\u001b[0m \u001b[0mself\u001b[0m\u001b[0;34m.\u001b[0m\u001b[0m_get_value\u001b[0m\u001b[0;34m(\u001b[0m\u001b[0mkey\u001b[0m\u001b[0;34m)\u001b[0m\u001b[0;34m\u001b[0m\u001b[0;34m\u001b[0m\u001b[0m\n\u001b[0m\u001b[1;32m    959\u001b[0m \u001b[0;34m\u001b[0m\u001b[0m\n\u001b[1;32m    960\u001b[0m         \u001b[0;32mif\u001b[0m \u001b[0mis_hashable\u001b[0m\u001b[0;34m(\u001b[0m\u001b[0mkey\u001b[0m\u001b[0;34m)\u001b[0m\u001b[0;34m:\u001b[0m\u001b[0;34m\u001b[0m\u001b[0;34m\u001b[0m\u001b[0m\n",
      "\u001b[0;32m~/anaconda/anaconda3/lib/python3.9/site-packages/pandas/core/series.py\u001b[0m in \u001b[0;36m_get_value\u001b[0;34m(self, label, takeable)\u001b[0m\n\u001b[1;32m   1067\u001b[0m \u001b[0;34m\u001b[0m\u001b[0m\n\u001b[1;32m   1068\u001b[0m         \u001b[0;31m# Similar to Index.get_value, but we do not fall back to positional\u001b[0m\u001b[0;34m\u001b[0m\u001b[0;34m\u001b[0m\u001b[0m\n\u001b[0;32m-> 1069\u001b[0;31m         \u001b[0mloc\u001b[0m \u001b[0;34m=\u001b[0m \u001b[0mself\u001b[0m\u001b[0;34m.\u001b[0m\u001b[0mindex\u001b[0m\u001b[0;34m.\u001b[0m\u001b[0mget_loc\u001b[0m\u001b[0;34m(\u001b[0m\u001b[0mlabel\u001b[0m\u001b[0;34m)\u001b[0m\u001b[0;34m\u001b[0m\u001b[0;34m\u001b[0m\u001b[0m\n\u001b[0m\u001b[1;32m   1070\u001b[0m         \u001b[0;32mreturn\u001b[0m \u001b[0mself\u001b[0m\u001b[0;34m.\u001b[0m\u001b[0mindex\u001b[0m\u001b[0;34m.\u001b[0m\u001b[0m_get_values_for_loc\u001b[0m\u001b[0;34m(\u001b[0m\u001b[0mself\u001b[0m\u001b[0;34m,\u001b[0m \u001b[0mloc\u001b[0m\u001b[0;34m,\u001b[0m \u001b[0mlabel\u001b[0m\u001b[0;34m)\u001b[0m\u001b[0;34m\u001b[0m\u001b[0;34m\u001b[0m\u001b[0m\n\u001b[1;32m   1071\u001b[0m \u001b[0;34m\u001b[0m\u001b[0m\n",
      "\u001b[0;32m~/anaconda/anaconda3/lib/python3.9/site-packages/pandas/core/indexes/base.py\u001b[0m in \u001b[0;36mget_loc\u001b[0;34m(self, key, method, tolerance)\u001b[0m\n\u001b[1;32m   3629\u001b[0m                 \u001b[0;32mreturn\u001b[0m \u001b[0mself\u001b[0m\u001b[0;34m.\u001b[0m\u001b[0m_engine\u001b[0m\u001b[0;34m.\u001b[0m\u001b[0mget_loc\u001b[0m\u001b[0;34m(\u001b[0m\u001b[0mcasted_key\u001b[0m\u001b[0;34m)\u001b[0m\u001b[0;34m\u001b[0m\u001b[0;34m\u001b[0m\u001b[0m\n\u001b[1;32m   3630\u001b[0m             \u001b[0;32mexcept\u001b[0m \u001b[0mKeyError\u001b[0m \u001b[0;32mas\u001b[0m \u001b[0merr\u001b[0m\u001b[0;34m:\u001b[0m\u001b[0;34m\u001b[0m\u001b[0;34m\u001b[0m\u001b[0m\n\u001b[0;32m-> 3631\u001b[0;31m                 \u001b[0;32mraise\u001b[0m \u001b[0mKeyError\u001b[0m\u001b[0;34m(\u001b[0m\u001b[0mkey\u001b[0m\u001b[0;34m)\u001b[0m \u001b[0;32mfrom\u001b[0m \u001b[0merr\u001b[0m\u001b[0;34m\u001b[0m\u001b[0;34m\u001b[0m\u001b[0m\n\u001b[0m\u001b[1;32m   3632\u001b[0m             \u001b[0;32mexcept\u001b[0m \u001b[0mTypeError\u001b[0m\u001b[0;34m:\u001b[0m\u001b[0;34m\u001b[0m\u001b[0;34m\u001b[0m\u001b[0m\n\u001b[1;32m   3633\u001b[0m                 \u001b[0;31m# If we have a listlike key, _check_indexing_error will raise\u001b[0m\u001b[0;34m\u001b[0m\u001b[0;34m\u001b[0m\u001b[0m\n",
      "\u001b[0;31mKeyError\u001b[0m: 153"
     ]
    }
   ],
   "source": [
    "for i in tqdm(range(len(np_train_part))):\n",
    "    train_part.at[i, 'similar_films'] = list(get_recommendations(np_train_part[i]))"
   ]
  },
  {
   "cell_type": "markdown",
   "id": "ac9915e5",
   "metadata": {},
   "source": [
    "## Проблема возникла на 153 индексе, как ее пофигсить я не понял("
   ]
  },
  {
   "cell_type": "code",
   "execution_count": null,
   "id": "a3944e07",
   "metadata": {},
   "outputs": [],
   "source": [
    "test_data = pd.read_csv('test_data.csv')"
   ]
  },
  {
   "cell_type": "code",
   "execution_count": null,
   "id": "eb8f15d0",
   "metadata": {},
   "outputs": [],
   "source": [
    "test_data.head()\n",
    "# данные неправильно импортировались, не беда"
   ]
  },
  {
   "cell_type": "code",
   "execution_count": null,
   "id": "2a0c890e",
   "metadata": {},
   "outputs": [],
   "source": [
    "test_data = test_data.groupby('user_id').agg({'ground_truth': lambda x: list(x)})"
   ]
  },
  {
   "cell_type": "code",
   "execution_count": null,
   "id": "798c2bb5",
   "metadata": {},
   "outputs": [],
   "source": [
    "test_data"
   ]
  },
  {
   "cell_type": "code",
   "execution_count": null,
   "id": "a09499e8",
   "metadata": {},
   "outputs": [],
   "source": [
    "test_data_copy = test_data.copy()"
   ]
  },
  {
   "cell_type": "code",
   "execution_count": null,
   "id": "8f95cca2",
   "metadata": {},
   "outputs": [],
   "source": [
    "for el in list(test_data_copy['ground_truth']):\n",
    "    tot_lst = []\n",
    "    for item_id in el:\n",
    "        tot_lst.append(items_dataset[items_dataset['item_id'] == item_id]['title'].to_string(index=False))\n",
    "    final_movies_pred = []\n",
    "    for title in tot_lst:\n",
    "        final_movies_pred += get_recommendations(title)\n",
    "        "
   ]
  },
  {
   "cell_type": "code",
   "execution_count": null,
   "id": "b4289a44",
   "metadata": {},
   "outputs": [],
   "source": []
  }
 ],
 "metadata": {
  "kernelspec": {
   "display_name": "Python 3 (ipykernel)",
   "language": "python",
   "name": "python3"
  },
  "language_info": {
   "codemirror_mode": {
    "name": "ipython",
    "version": 3
   },
   "file_extension": ".py",
   "mimetype": "text/x-python",
   "name": "python",
   "nbconvert_exporter": "python",
   "pygments_lexer": "ipython3",
   "version": "3.9.13"
  }
 },
 "nbformat": 4,
 "nbformat_minor": 5
}
